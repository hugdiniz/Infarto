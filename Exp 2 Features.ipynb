{
 "cells": [
  {
   "cell_type": "code",
   "execution_count": 1,
   "metadata": {
    "collapsed": false
   },
   "outputs": [],
   "source": [
    "from Dataset import lerCSV,lerXLSX\n",
    "import warnings\n",
    "import sys \n",
    "import numpy as np\n",
    "import pickle\n",
    "import theanets\n",
    "from sklearn import preprocessing\n",
    "from random import shuffle\n",
    "from sklearn.metrics import precision_score,recall_score,log_loss\n",
    "from mpl_toolkits.mplot3d import Axes3D\n",
    "import matplotlib.pyplot as plt\n",
    "from math import sqrt\n",
    "import math\n",
    "%matplotlib inline"
   ]
  },
  {
   "cell_type": "code",
   "execution_count": 2,
   "metadata": {
    "collapsed": false
   },
   "outputs": [],
   "source": [
    "warnings.filterwarnings(\"ignore\")   \n",
    "matrix = lerXLSX(\"Banco de Dados - Infarto treinoTeste.xlsx\",training=True,agrupamento=False)"
   ]
  },
  {
   "cell_type": "code",
   "execution_count": 3,
   "metadata": {
    "collapsed": false
   },
   "outputs": [],
   "source": [
    "k = 10\n",
    "lista = list(range(0,len(matrix))) \n",
    "shuffle(lista)\n",
    "a = np.asarray(lista) % k"
   ]
  },
  {
   "cell_type": "code",
   "execution_count": 4,
   "metadata": {
    "collapsed": false
   },
   "outputs": [],
   "source": [
    "min_max_scaler = preprocessing.MinMaxScaler()\n",
    "matrixProcessed = min_max_scaler.fit_transform(matrix[:,:3])\n",
    "#matrixProcessed = preprocessing.normalize(matrix[:,:3], norm='l2')\n",
    "#matrixProcessed = np.array([[matrixProcessed[y,0],matrixProcessed[y,1],matrixProcessed[y,2],matrixProcessed[y,3]]  for y in range(0,len(matrix[:,0]))])\n",
    "matrixProcessed = matrixProcessed = np.array([[matrixProcessed[y,0],sigmoid(matrixProcessed[y,1]),matrixProcessed[y,2]]  for y in range(0,len(matrix[:,0]))])\n"
   ]
  },
  {
   "cell_type": "code",
   "execution_count": 20,
   "metadata": {
    "collapsed": false
   },
   "outputs": [],
   "source": [
    "def specificity(outputs,predicts):\n",
    "    neg = np.sum([output == 0 for output in outputs])\n",
    "    tn = np.sum([predicts[x] == outputs[x] and outputs[x] == 0 for x in range(len(predicts))])\n",
    "    return tn / neg\n",
    "\n",
    "def KFold(matrix,metric):\n",
    "    k = 8\n",
    "    \n",
    "    limit = 3\n",
    "    \n",
    "    \n",
    "    lista = list(range(1,len(matrix))) \n",
    "    shuffle(lista)\n",
    "    a = np.asarray(lista) % k   \n",
    "    \n",
    "    scores = np.zeros(k)\n",
    "    recall = np.zeros(k)\n",
    "    precision = np.zeros(k)\n",
    "    average_precision = np.zeros(k)\n",
    "    \n",
    "    for fold in range(0,k):\n",
    "        treinoIndex = np.where(a != fold)[0]\n",
    "        testeIndex =  np.where(a == fold)[0]        \n",
    "        \n",
    "        inputs = np.array([[matrix[y,0],matrix[y,1]] for y in treinoIndex])\n",
    "        weights = np.array([int(matrix[y,2] == 1)*0+1 for y in treinoIndex],dtype=\"int32\")        \n",
    "        outputs = np.array([int(matrix[y,2] == 1) for y in treinoIndex],dtype=\"int32\")\n",
    "            \n",
    "        model = theanets.Classifier(metric[1],loss='CrossEntropy',weighted=True)  \n",
    "        model.train([inputs, outputs,weights],algo='sgd',learning_rate=0.01,momentum=0.9)       \n",
    "        \n",
    "        testOutputs = [matrix[y,2] for y in testeIndex] \n",
    "        testInputs = np.array([matrix[y,:2]  for y in testeIndex])   \n",
    "        predicts = model.predict(testInputs)\n",
    "        predictsProbas = model.predict_proba(testInputs)\n",
    "        scores[fold] = log_loss(testOutputs, predictsProbas)\n",
    "        recall[fold] = recall_score(testOutputs, predicts)\n",
    "        precision[fold] = specificity(testOutputs, predicts)        \n",
    "        \n",
    "    \n",
    "    print(\"Final:\"+ metric[0] + \" = Error:%2.2e[+/- %2.2e]\"%(np.mean(scores),np.std(scores)))\n",
    "    print(\"Final:\"+ metric[0] + \" = Sensitive:%2.2e[+/- %2.2e]\"%(np.mean(recall),np.std(recall)))\n",
    "    print(\"Final:\"+ metric[0] + \" = specificity:%2.2e[+/- %2.2e]\"%(np.mean(precision),np.std(precision)))       \n",
    "    return np.mean(scores), np.std(scores)"
   ]
  },
  {
   "cell_type": "code",
   "execution_count": 21,
   "metadata": {
    "collapsed": false
   },
   "outputs": [],
   "source": [
    "metrics = [   [\"neural network (2,2)\",[2, 2]],[\"neural network (2,1 tanh,2)\",[2, (1,\"tanh\"), 2]],[\"neural network (2,2 tanh,2)\",[2, (2, 'tanh'), 2]]]\n"
   ]
  },
  {
   "cell_type": "markdown",
   "metadata": {},
   "source": [
    "## Colesterol e Idade"
   ]
  },
  {
   "cell_type": "code",
   "execution_count": 22,
   "metadata": {
    "collapsed": false
   },
   "outputs": [
    {
     "name": "stdout",
     "output_type": "stream",
     "text": [
      "Final:neural network (2,2) = Error:5.33e-01[+/- 2.99e-02]\n",
      "Final:neural network (2,2) = Sensitive:4.78e-01[+/- 6.69e-02]\n",
      "Final:neural network (2,2) = specificity:8.71e-01[+/- 4.90e-02]\n",
      "Final:neural network (2,1 tanh,2) = Error:5.26e-01[+/- 6.20e-02]\n",
      "Final:neural network (2,1 tanh,2) = Sensitive:5.79e-01[+/- 9.16e-02]\n",
      "Final:neural network (2,1 tanh,2) = specificity:8.41e-01[+/- 3.46e-02]\n",
      "Final:neural network (2,2 tanh,2) = Error:5.28e-01[+/- 5.26e-02]\n",
      "Final:neural network (2,2 tanh,2) = Sensitive:5.82e-01[+/- 8.63e-02]\n",
      "Final:neural network (2,2 tanh,2) = specificity:8.40e-01[+/- 4.86e-02]\n"
     ]
    }
   ],
   "source": [
    "inputOutput = np.array([np.concatenate((matrixProcessed[x,:2],[matrix[x,3] == 1]),axis=0) for x in range(0,len(matrix[:,3]))])\n",
    "for metric in metrics:\n",
    "    KFold(inputOutput, metric=metric)\n"
   ]
  },
  {
   "cell_type": "markdown",
   "metadata": {},
   "source": [
    "## Colesterol e Glicemia"
   ]
  },
  {
   "cell_type": "code",
   "execution_count": 23,
   "metadata": {
    "collapsed": false
   },
   "outputs": [
    {
     "name": "stdout",
     "output_type": "stream",
     "text": [
      "Final:neural network (2,2) = Error:5.60e-01[+/- 4.94e-02]\n",
      "Final:neural network (2,2) = Sensitive:4.31e-01[+/- 8.75e-02]\n",
      "Final:neural network (2,2) = specificity:8.58e-01[+/- 3.68e-02]\n",
      "Final:neural network (2,1 tanh,2) = Error:5.63e-01[+/- 3.78e-02]\n",
      "Final:neural network (2,1 tanh,2) = Sensitive:4.33e-01[+/- 7.67e-02]\n",
      "Final:neural network (2,1 tanh,2) = specificity:8.62e-01[+/- 3.13e-02]\n",
      "Final:neural network (2,2 tanh,2) = Error:5.65e-01[+/- 6.44e-02]\n",
      "Final:neural network (2,2 tanh,2) = Sensitive:4.50e-01[+/- 8.06e-02]\n",
      "Final:neural network (2,2 tanh,2) = specificity:8.51e-01[+/- 5.01e-02]\n"
     ]
    }
   ],
   "source": [
    "inputOutput = np.array([[matrixProcessed[x,0],matrixProcessed[x,2],matrix[x,3] == 1] for x in range(0,len(matrix[:,3]))])\n",
    "for metric in metrics:\n",
    "    KFold(inputOutput, metric=metric)\n",
    "with open(\"cg.pkl\",'wb') as f:\n",
    "    np.savetxt(f, inputOutput, delimiter=',') \n"
   ]
  },
  {
   "cell_type": "markdown",
   "metadata": {},
   "source": [
    "## Glicemia e Idade"
   ]
  },
  {
   "cell_type": "code",
   "execution_count": 24,
   "metadata": {
    "collapsed": false
   },
   "outputs": [
    {
     "name": "stdout",
     "output_type": "stream",
     "text": [
      "Final:neural network (2,2) = Error:5.65e-01[+/- 3.12e-02]\n",
      "Final:neural network (2,2) = Sensitive:4.28e-01[+/- 7.75e-02]\n",
      "Final:neural network (2,2) = specificity:8.52e-01[+/- 4.36e-02]\n",
      "Final:neural network (2,1 tanh,2) = Error:5.67e-01[+/- 5.11e-02]\n",
      "Final:neural network (2,1 tanh,2) = Sensitive:4.58e-01[+/- 8.21e-02]\n",
      "Final:neural network (2,1 tanh,2) = specificity:8.47e-01[+/- 4.55e-02]\n",
      "Final:neural network (2,2 tanh,2) = Error:5.71e-01[+/- 4.66e-02]\n",
      "Final:neural network (2,2 tanh,2) = Sensitive:4.37e-01[+/- 9.35e-02]\n",
      "Final:neural network (2,2 tanh,2) = specificity:8.33e-01[+/- 6.91e-02]\n"
     ]
    }
   ],
   "source": [
    "inputOutput = np.array([[matrixProcessed[x,1],matrixProcessed[x,2],matrix[x,3] == 1] for x in range(0,len(matrix[:,3]))])\n",
    "for metric in metrics:\n",
    "    KFold(inputOutput, metric=metric)\n",
    "\n",
    "with open(\"ig.pkl\",'wb') as f:\n",
    "    np.savetxt(f, inputOutput, delimiter=',') "
   ]
  },
  {
   "cell_type": "code",
   "execution_count": null,
   "metadata": {
    "collapsed": true
   },
   "outputs": [],
   "source": []
  }
 ],
 "metadata": {
  "anaconda-cloud": {},
  "kernelspec": {
   "display_name": "Python [Root]",
   "language": "python",
   "name": "Python [Root]"
  },
  "language_info": {
   "codemirror_mode": {
    "name": "ipython",
    "version": 3
   },
   "file_extension": ".py",
   "mimetype": "text/x-python",
   "name": "python",
   "nbconvert_exporter": "python",
   "pygments_lexer": "ipython3",
   "version": "3.5.2"
  }
 },
 "nbformat": 4,
 "nbformat_minor": 0
}
