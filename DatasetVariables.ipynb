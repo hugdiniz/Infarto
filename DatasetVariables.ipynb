{
 "cells": [
  {
   "cell_type": "code",
   "execution_count": 1,
   "metadata": {
    "collapsed": true
   },
   "outputs": [],
   "source": [
    "from Dataset import lerCSV,lerXLSX\n",
    "import warnings\n",
    "import sys \n",
    "import numpy as np\n",
    "from sklearn import preprocessing\n",
    "from mpl_toolkits.mplot3d import Axes3D\n",
    "import matplotlib.pyplot as plt\n",
    "%matplotlib inline"
   ]
  },
  {
   "cell_type": "code",
   "execution_count": 2,
   "metadata": {
    "collapsed": true
   },
   "outputs": [],
   "source": [
    "warnings.filterwarnings(\"ignore\")   \n",
    "matrix = lerXLSX(\"Banco de Dados - Infarto treinoTeste.xlsx\",training=True)"
   ]
  },
  {
   "cell_type": "code",
   "execution_count": 3,
   "metadata": {
    "collapsed": false
   },
   "outputs": [
    {
     "name": "stdout",
     "output_type": "stream",
     "text": [
      "[[ 0  0]\n",
      " [ 1  0]\n",
      " [ 2  0]\n",
      " [ 3  0]\n",
      " [ 4  0]\n",
      " [ 5  0]\n",
      " [ 6  0]\n",
      " [ 7  0]\n",
      " [ 8  0]\n",
      " [ 9  0]\n",
      " [10  3]\n",
      " [11  0]\n",
      " [12  1]\n",
      " [13  1]\n",
      " [14  2]\n",
      " [15  2]\n",
      " [16  0]\n",
      " [17  0]\n",
      " [18  2]\n",
      " [19  1]\n",
      " [20  1]\n",
      " [21  1]\n",
      " [22  1]\n",
      " [23  0]\n",
      " [24  4]\n",
      " [25  1]\n",
      " [26  1]\n",
      " [27  3]\n",
      " [28  0]\n",
      " [29  4]\n",
      " [30  4]\n",
      " [31  2]\n",
      " [32  2]\n",
      " [33  1]\n",
      " [34  0]\n",
      " [35  5]\n",
      " [36  1]\n",
      " [37  3]\n",
      " [38  4]\n",
      " [39  1]\n",
      " [40  4]\n",
      " [41  9]\n",
      " [42  2]\n",
      " [43  4]\n",
      " [44  5]\n",
      " [45  3]\n",
      " [46  4]\n",
      " [47  2]\n",
      " [48  3]\n",
      " [49  3]\n",
      " [50  5]\n",
      " [51  7]\n",
      " [52  6]\n",
      " [53 16]\n",
      " [54  8]\n",
      " [55  6]\n",
      " [56  6]\n",
      " [57  5]\n",
      " [58  6]\n",
      " [59  3]\n",
      " [60  9]\n",
      " [61  5]\n",
      " [62  6]\n",
      " [63 11]\n",
      " [64  6]\n",
      " [65  8]\n",
      " [66  5]\n",
      " [67  4]\n",
      " [68  4]\n",
      " [69  6]\n",
      " [70  7]\n",
      " [71  6]\n",
      " [72  6]\n",
      " [73  1]\n",
      " [74  3]\n",
      " [75  5]\n",
      " [76  5]\n",
      " [77  3]\n",
      " [78  5]\n",
      " [79  1]\n",
      " [80  1]\n",
      " [81  2]\n",
      " [82  0]\n",
      " [83  0]\n",
      " [84  0]\n",
      " [85  2]\n",
      " [86  0]]\n"
     ]
    }
   ],
   "source": [
    "infartoIdade = np.array([[idade,sum([int(matrix[idPerson,4] == 1) for idPerson in np.where(matrix[:,1] == idade)[0]])] for idade in range(int(87))])\n",
    "print(infartoIdade)"
   ]
  },
  {
   "cell_type": "code",
   "execution_count": null,
   "metadata": {
    "collapsed": true
   },
   "outputs": [],
   "source": []
  }
 ],
 "metadata": {
  "kernelspec": {
   "display_name": "Python [Root]",
   "language": "python",
   "name": "Python [Root]"
  },
  "language_info": {
   "codemirror_mode": {
    "name": "ipython",
    "version": 3
   },
   "file_extension": ".py",
   "mimetype": "text/x-python",
   "name": "python",
   "nbconvert_exporter": "python",
   "pygments_lexer": "ipython3",
   "version": "3.5.2"
  }
 },
 "nbformat": 4,
 "nbformat_minor": 0
}
