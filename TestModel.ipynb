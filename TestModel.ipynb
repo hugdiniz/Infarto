{
 "cells": [
  {
   "cell_type": "code",
   "execution_count": 3,
   "metadata": {
    "collapsed": true
   },
   "outputs": [],
   "source": [
    "from Dataset import lerCSV,lerXLSX\n",
    "import warnings\n",
    "import sys \n",
    "import numpy as np\n",
    "import pickle\n",
    "import theanets\n",
    "from sklearn import preprocessing\n",
    "from random import shuffle\n",
    "from sklearn.metrics import precision_score,recall_score\n",
    "from mpl_toolkits.mplot3d import Axes3D\n",
    "import matplotlib.pyplot as plt\n",
    "from math import sqrt\n",
    "%matplotlib inline"
   ]
  },
  {
   "cell_type": "code",
   "execution_count": 25,
   "metadata": {
    "collapsed": true
   },
   "outputs": [],
   "source": [
    "warnings.filterwarnings(\"ignore\")   \n",
    "matrix = lerXLSX(\"Banco de Dados - Infarto treinoTeste.xlsx\",training=True)"
   ]
  },
  {
   "cell_type": "code",
   "execution_count": 26,
   "metadata": {
    "collapsed": true
   },
   "outputs": [],
   "source": [
    "k = 10\n",
    "lista = list(range(0,len(matrix))) \n",
    "shuffle(lista)\n",
    "a = np.asarray(lista) % k"
   ]
  },
  {
   "cell_type": "code",
   "execution_count": 28,
   "metadata": {
    "collapsed": false
   },
   "outputs": [],
   "source": [
    "min_max_scaler = preprocessing.MinMaxScaler()\n",
    "matrixProcessed = min_max_scaler.fit_transform(matrix[:,:4])\n",
    "matrixProcessed = preprocessing.normalize(matrix[:,:3], norm='l2')\n",
    "#matrixProcessed = np.array([[matrixProcessed[y,0],matrixProcessed[y,1],matrixProcessed[y,2],matrixProcessed[y,3]]  for y in range(0,len(matrix[:,0]))])\n"
   ]
  },
  {
   "cell_type": "code",
   "execution_count": 17,
   "metadata": {
    "collapsed": true
   },
   "outputs": [],
   "source": [
    "def KFold(matrix,metric = [\"neural network (4,5 tanh,2)\",[3, (7, 'tanh'), 2]]):\n",
    "    k = 8\n",
    "    \n",
    "    limit = 3\n",
    "    \n",
    "    \n",
    "    lista = list(range(1,len(matrix))) \n",
    "    shuffle(lista)\n",
    "    a = np.asarray(lista) % k   \n",
    "    \n",
    "    scores = np.zeros(k)\n",
    "    recall = np.zeros(k)\n",
    "    precision = np.zeros(k)\n",
    "    average_precision = np.zeros(k)\n",
    "    \n",
    "    for fold in range(0,k):\n",
    "        treinoIndex = np.where(a != fold)[0]\n",
    "        testeIndex =  np.where(a == fold)[0]        \n",
    "        \n",
    "        inputs = np.array([[matrix[y,0],matrix[y,1],matrix[y,2]]  for y in treinoIndex])\n",
    "        weights = np.array([int(matrix[y,3] == 1)*1+1 for y in treinoIndex],dtype=\"int32\")        \n",
    "        outputs = np.array([int(matrix[y,3] == 1) for y in treinoIndex],dtype=\"int32\")\n",
    "            \n",
    "        model = theanets.Classifier(metric[1],loss='CrossEntropy',weighted=True)  \n",
    "        model.train([inputs, outputs,weights],algo='sgd',learning_rate=0.01,momentum=0.9)       \n",
    "        \n",
    "        testOutputs = [matrix[y,3] for y in testeIndex] \n",
    "        testInputs = np.array([matrix[y,:3]  for y in testeIndex])   \n",
    "        predicts = model.predict(testInputs)\n",
    "        scores[fold] = sum([int(predicts[x] == testOutputs[x]) for x in range(len(predicts))]) / len(predicts) \n",
    "        recall[fold] = recall_score(testOutputs, predicts)\n",
    "        precision[fold] = precision_score(testOutputs, predicts)        \n",
    "        \n",
    "    \n",
    "    print(\"Final:\"+ metric[0] + \" = Score:%2.2e[+/- %2.2e]\"%(np.mean(scores),np.std(scores)))\n",
    "    print(\"Final:\"+ metric[0] + \" = recall:%2.2e[+/- %2.2e]\"%(np.mean(recall),np.std(recall)))\n",
    "    print(\"Final:\"+ metric[0] + \" = precision:%2.2e[+/- %2.2e]\"%(np.mean(precision),np.std(precision)))       \n",
    "    return np.mean(scores), np.std(scores)"
   ]
  },
  {
   "cell_type": "code",
   "execution_count": 18,
   "metadata": {
    "collapsed": false
   },
   "outputs": [],
   "source": [
    "inputOutput = np.array([np.concatenate((matrixProcessed[x,:3],[matrix[x,4] == 1]),axis=0) for x in range(0,len(matrix[:,4]))])"
   ]
  },
  {
   "cell_type": "code",
   "execution_count": 19,
   "metadata": {
    "collapsed": false
   },
   "outputs": [
    {
     "name": "stdout",
     "output_type": "stream",
     "text": [
      "Final:neural network (4,5 tanh,2) = Score:5.81e-01[+/- 6.27e-02]\n",
      "Final:neural network (4,5 tanh,2) = recall:6.88e-01[+/- 7.03e-02]\n",
      "Final:neural network (4,5 tanh,2) = precision:4.34e-01[+/- 7.63e-02]\n",
      "Final:neural network (4,7 tanh,2) = Score:5.90e-01[+/- 3.35e-02]\n",
      "Final:neural network (4,7 tanh,2) = recall:6.71e-01[+/- 9.99e-02]\n",
      "Final:neural network (4,7 tanh,2) = precision:4.37e-01[+/- 4.63e-02]\n",
      "Final:neural network (4,10 tanh,2) = Score:5.81e-01[+/- 5.37e-02]\n",
      "Final:neural network (4,10 tanh,2) = recall:6.49e-01[+/- 1.03e-01]\n",
      "Final:neural network (4,10 tanh,2) = precision:4.30e-01[+/- 7.70e-02]\n",
      "Final:neural network (4,15 tanh,2) = Score:5.81e-01[+/- 5.07e-02]\n",
      "Final:neural network (4,15 tanh,2) = recall:6.58e-01[+/- 7.21e-02]\n",
      "Final:neural network (4,15 tanh,2) = precision:4.27e-01[+/- 5.28e-02]\n",
      "Final:neural network (4,5 tanh,5 tanh,2) = Score:5.64e-01[+/- 4.44e-02]\n",
      "Final:neural network (4,5 tanh,5 tanh,2) = recall:7.23e-01[+/- 1.08e-01]\n",
      "Final:neural network (4,5 tanh,5 tanh,2) = precision:4.21e-01[+/- 4.34e-02]\n"
     ]
    }
   ],
   "source": [
    "metrics = [ [\"neural network (4,5 tanh,2)\",[3, (5, 'tanh'), 2]], [\"neural network (4,7 tanh,2)\",[3, (7, 'tanh'), 2]], [\"neural network (4,10 tanh,2)\",[3, (10, 'tanh'), 2]], [\"neural network (4,15 tanh,2)\",[3, (15, 'tanh'), 2]], [\"neural network (4,5 tanh,5 tanh,2)\",[3,(5, 'tanh'), (5, 'tanh'), 2]]]\n",
    "for metric in metrics:\n",
    "    KFold(inputOutput, metric=metric)\n"
   ]
  },
  {
   "cell_type": "code",
   "execution_count": null,
   "metadata": {
    "collapsed": true
   },
   "outputs": [],
   "source": []
  }
 ],
 "metadata": {
  "anaconda-cloud": {},
  "kernelspec": {
   "display_name": "Python [Root]",
   "language": "python",
   "name": "Python [Root]"
  },
  "language_info": {
   "codemirror_mode": {
    "name": "ipython",
    "version": 3
   },
   "file_extension": ".py",
   "mimetype": "text/x-python",
   "name": "python",
   "nbconvert_exporter": "python",
   "pygments_lexer": "ipython3",
   "version": "3.5.2"
  }
 },
 "nbformat": 4,
 "nbformat_minor": 0
}
