{
 "cells": [
  {
   "cell_type": "code",
   "execution_count": 26,
   "metadata": {
    "collapsed": false
   },
   "outputs": [],
   "source": [
    "from Dataset import lerCSV,lerXLSX\n",
    "import warnings\n",
    "import sys \n",
    "import numpy as np\n",
    "import pickle\n",
    "import theanets\n",
    "from sklearn import preprocessing\n",
    "from random import shuffle\n",
    "from sklearn.metrics import precision_score,recall_score,log_loss\n",
    "from mpl_toolkits.mplot3d import Axes3D\n",
    "import matplotlib.pyplot as plt\n",
    "from math import sqrt\n",
    "import math\n",
    "from roc import RocAucScoreOp\n",
    "%matplotlib inline\n",
    "\n",
    "warnings.filterwarnings(\"ignore\") "
   ]
  },
  {
   "cell_type": "code",
   "execution_count": 27,
   "metadata": {
    "collapsed": false
   },
   "outputs": [],
   "source": [
    "  \n",
    "matrix = lerXLSX(\"Banco de Dados - Infarto treinoTeste.xlsx\",training=True,agrupamento=False)\n",
    "matrixValidacao = lerXLSX(\"Banco de Dados - Infarto validacao.xlsx\",training=True,agrupamento=False)\n",
    "\n",
    "\n",
    "def specificity(outputs,predicts):\n",
    "    neg = np.sum([output == 0 for output in outputs])\n",
    "    tn = np.sum([predicts[x] == outputs[x] and outputs[x] == 0 for x in range(len(predicts))])\n",
    "    return tn / neg"
   ]
  },
  {
   "cell_type": "markdown",
   "metadata": {
    "collapsed": false
   },
   "source": [
    "## Normalizando o Dataset"
   ]
  },
  {
   "cell_type": "code",
   "execution_count": 28,
   "metadata": {
    "collapsed": false
   },
   "outputs": [],
   "source": [
    "min_max_scaler = preprocessing.MinMaxScaler()\n",
    "matrixProcessed = min_max_scaler.fit_transform(matrix[:,:3])\n",
    "\n",
    "min_max_scalerV = preprocessing.MinMaxScaler()\n",
    "matrixProcessedValidacao = min_max_scalerV.fit_transform(matrixValidacao[:,:3])"
   ]
  },
  {
   "cell_type": "markdown",
   "metadata": {},
   "source": [
    "## Criando O Modelo e Treinando"
   ]
  },
  {
   "cell_type": "code",
   "execution_count": 30,
   "metadata": {
    "collapsed": false
   },
   "outputs": [],
   "source": [
    "metric =  [\"neural network (3,2)\",[3, 2]]\n",
    "inputs = matrixProcessed\n",
    "weights = np.array([int(matrix[y,3] == 1)*2+1 for y in range(len(matrix[:,2]))],dtype=\"int32\")        \n",
    "outputs = np.array([int(matrix[y,3] == 1) for y in range(len(matrix[:,2]))],dtype=\"int32\")\n",
    "\n",
    "model = theanets.Classifier(metric[1],loss='CrossEntropy',weighted=True)  \n",
    "saidaT = model.train([inputs, outputs,weights],algo='sgd',learning_rate=0.01,momentum=0.9)"
   ]
  },
  {
   "cell_type": "markdown",
   "metadata": {},
   "source": [
    "## Validando"
   ]
  },
  {
   "cell_type": "code",
   "execution_count": 31,
   "metadata": {
    "collapsed": false
   },
   "outputs": [
    {
     "name": "stdout",
     "output_type": "stream",
     "text": [
      "neural network (3,2) = Error:6.32e-01\n",
      "neural network (3,2) = Sensitive:9.09e-01\n",
      "neural network (3,2) = specificity:6.06e-01\n"
     ]
    }
   ],
   "source": [
    "saidaValidacao  = np.array([int(matrixValidacao[y,3] == 1) for y in range(len(matrixValidacao[:,2]))],dtype=\"int32\")\n",
    "predicts = model.predict(matrixProcessedValidacao)\n",
    "predictsProbas = model.predict_proba(matrixProcessedValidacao)\n",
    "score = log_loss(saidaValidacao, predictsProbas)\n",
    "recall = recall_score(saidaValidacao, predicts)\n",
    "precision = specificity(saidaValidacao, predicts)\n",
    "\n",
    "print(\"\"+ metric[0] + \" = Error:%2.2e\"%(score))\n",
    "print(\"\"+ metric[0] + \" = Sensitive:%2.2e\"%(recall))\n",
    "print(\"\"+ metric[0] + \" = specificity:%2.2e\"%(precision))    "
   ]
  },
  {
   "cell_type": "code",
   "execution_count": null,
   "metadata": {
    "collapsed": true
   },
   "outputs": [],
   "source": []
  }
 ],
 "metadata": {
  "anaconda-cloud": {},
  "kernelspec": {
   "display_name": "Python [Root]",
   "language": "python",
   "name": "Python [Root]"
  },
  "language_info": {
   "codemirror_mode": {
    "name": "ipython",
    "version": 3
   },
   "file_extension": ".py",
   "mimetype": "text/x-python",
   "name": "python",
   "nbconvert_exporter": "python",
   "pygments_lexer": "ipython3",
   "version": "3.5.2"
  }
 },
 "nbformat": 4,
 "nbformat_minor": 0
}
