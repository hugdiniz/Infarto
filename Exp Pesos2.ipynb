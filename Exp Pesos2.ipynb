{
 "cells": [
  {
   "cell_type": "code",
   "execution_count": 2,
   "metadata": {
    "collapsed": false
   },
   "outputs": [],
   "source": [
    "from Dataset import lerCSV,lerXLSX\n",
    "import warnings\n",
    "import sys \n",
    "import numpy as np\n",
    "import pickle\n",
    "import theanets\n",
    "from sklearn import preprocessing\n",
    "from random import shuffle\n",
    "from sklearn.metrics import precision_score,recall_score\n",
    "from mpl_toolkits.mplot3d import Axes3D\n",
    "import matplotlib.pyplot as plt\n",
    "from math import sqrt\n",
    "import math\n",
    "%matplotlib inline"
   ]
  },
  {
   "cell_type": "code",
   "execution_count": 3,
   "metadata": {
    "collapsed": false
   },
   "outputs": [],
   "source": [
    "warnings.filterwarnings(\"ignore\")   \n",
    "matrix = lerXLSX(\"Banco de Dados - Infarto treinoTeste.xlsx\",training=True,agrupamento=False)\n",
    "def sigmoid(x):\n",
    "  x = (x - 0.5) *  10\n",
    "  return 1 / (1 + math.exp(-x))\n",
    "def pesoUm(line):    \n",
    "    return pesoFixo(line,0)\n",
    "def pesoDois(line):    \n",
    "    return pesoFixo(line,1)\n",
    "def pesoTres(line):    \n",
    "    return pesoFixo(line,2)\n",
    "def pesoQuatro(line):    \n",
    "    return pesoFixo(line,3)\n",
    "def pesoOito(line):\n",
    "    return pesoFixo(line,7)\n",
    "def pesoFixo(line,peso):\n",
    "    return int(line[3] == 1)*peso+1"
   ]
  },
  {
   "cell_type": "code",
   "execution_count": 4,
   "metadata": {
    "collapsed": false
   },
   "outputs": [],
   "source": [
    "k = 10\n",
    "lista = list(range(0,len(matrix))) \n",
    "shuffle(lista)\n",
    "a = np.asarray(lista) % k"
   ]
  },
  {
   "cell_type": "code",
   "execution_count": 5,
   "metadata": {
    "collapsed": false
   },
   "outputs": [],
   "source": [
    "min_max_scaler = preprocessing.MinMaxScaler()\n",
    "matrixProcessed = min_max_scaler.fit_transform(matrix[:,:3])\n",
    "#matrixProcessed = preprocessing.normalize(matrix[:,:3], norm='l2')\n",
    "#matrixProcessed = np.array([[matrixProcessed[y,0],matrixProcessed[y,1],matrixProcessed[y,2],matrixProcessed[y,3]]  for y in range(0,len(matrix[:,0]))])\n",
    "matrixProcessed = matrixProcessed = np.array([[matrixProcessed[y,0],sigmoid(matrixProcessed[y,1]),matrixProcessed[y,2]]  for y in range(0,len(matrix[:,0]))])\n"
   ]
  },
  {
   "cell_type": "code",
   "execution_count": 6,
   "metadata": {
    "collapsed": true
   },
   "outputs": [],
   "source": [
    "def specificity(outputs,predicts):\n",
    "    neg = np.sum([output == 0 for output in outputs])\n",
    "    tn = np.sum([predicts[x] == outputs[x] and outputs[x] == 0 for x in range(len(predicts))])\n",
    "    return tn / neg\n",
    "\n",
    "def KFold(matrix,metric):\n",
    "    k = 8\n",
    "    \n",
    "    limit = 3\n",
    "    peso = metric[2]\n",
    "    \n",
    "    lista = list(range(1,len(matrix))) \n",
    "    shuffle(lista)\n",
    "    a = np.asarray(lista) % k   \n",
    "    \n",
    "    scores = np.zeros(k)\n",
    "    recall = np.zeros(k)\n",
    "    precision = np.zeros(k)\n",
    "    average_precision = np.zeros(k)\n",
    "    \n",
    "    for fold in range(0,k):\n",
    "        treinoIndex = np.where(a != fold)[0]\n",
    "        testeIndex =  np.where(a == fold)[0]        \n",
    "        \n",
    "        inputs = np.array([[matrix[y,0],matrix[y,1],matrix[y,2]]  for y in treinoIndex])\n",
    "        weights = np.array([peso(matrix[y,:]) for y in treinoIndex],dtype=\"int32\")        \n",
    "        outputs = np.array([int(matrix[y,3] == 1) for y in treinoIndex],dtype=\"int32\")\n",
    "            \n",
    "        model = theanets.Classifier(metric[1],loss='CrossEntropy',weighted=True)  \n",
    "        model.train([inputs, outputs,weights],algo='sgd',learning_rate=0.01,momentum=0.9)       \n",
    "        \n",
    "        testOutputs = [matrix[y,3] for y in testeIndex] \n",
    "        testInputs = np.array([matrix[y,:3]  for y in testeIndex])   \n",
    "        predicts = model.predict(testInputs)\n",
    "        scores[fold] = sum([int(predicts[x] == testOutputs[x]) for x in range(len(predicts))]) / len(predicts) \n",
    "        recall[fold] = recall_score(testOutputs, predicts)\n",
    "        precision[fold] = specificity(testOutputs, predicts)        \n",
    "        \n",
    "    \n",
    "    print(\"Final:\"+ metric[0] + \" = Score:%2.2e[+/- %2.2e]\"%(np.mean(scores),np.std(scores)))\n",
    "    print(\"Final:\"+ metric[0] + \" = Sensitive:%2.2e[+/- %2.2e]\"%(np.mean(recall),np.std(recall)))\n",
    "    print(\"Final:\"+ metric[0] + \" = specificity:%2.2e[+/- %2.2e]\"%(np.mean(precision),np.std(precision)))       \n",
    "    return np.mean(scores), np.std(scores)"
   ]
  },
  {
   "cell_type": "code",
   "execution_count": null,
   "metadata": {
    "collapsed": false
   },
   "outputs": [],
   "source": [
    "inputOutput = np.array([np.concatenate((matrixProcessed[x,:3],[matrix[x,3] == 1]),axis=0) for x in range(0,len(matrix[:,3]))])"
   ]
  },
  {
   "cell_type": "code",
   "execution_count": null,
   "metadata": {
    "collapsed": false
   },
   "outputs": [
    {
     "name": "stdout",
     "output_type": "stream",
     "text": [
      "Final:neural network (3,2) = Score:7.59e-01[+/- 3.58e-02]\n",
      "Final:neural network (3,2) = Sensitive:5.47e-01[+/- 9.82e-02]\n",
      "Final:neural network (3,2) = specificity:8.75e-01[+/- 3.04e-02]\n",
      "Final:neural network (3,2) = Score:7.29e-01[+/- 3.03e-02]\n",
      "Final:neural network (3,2) = Sensitive:7.64e-01[+/- 9.32e-02]\n",
      "Final:neural network (3,2) = specificity:7.05e-01[+/- 7.00e-02]\n"
     ]
    }
   ],
   "source": [
    "metrics = [ [\"neural network (3,2)\",[3,2],pesoUm], [\"neural network (3,2)\",[3,2],pesoDois],[\"neural network (3,2)\",[3,2],pesoTres],[\"neural network (3,2)\",[3,2],pesoQuatro],[\"neural network (3,2)\",[3,2],pesoOito]]\n",
    "for metric in metrics:\n",
    "    KFold(inputOutput, metric=metric)\n"
   ]
  },
  {
   "cell_type": "code",
   "execution_count": null,
   "metadata": {
    "collapsed": true
   },
   "outputs": [],
   "source": []
  },
  {
   "cell_type": "code",
   "execution_count": null,
   "metadata": {
    "collapsed": true
   },
   "outputs": [],
   "source": []
  }
 ],
 "metadata": {
  "anaconda-cloud": {},
  "kernelspec": {
   "display_name": "Python [Root]",
   "language": "python",
   "name": "Python [Root]"
  },
  "language_info": {
   "codemirror_mode": {
    "name": "ipython",
    "version": 3
   },
   "file_extension": ".py",
   "mimetype": "text/x-python",
   "name": "python",
   "nbconvert_exporter": "python",
   "pygments_lexer": "ipython3",
   "version": "3.5.2"
  }
 },
 "nbformat": 4,
 "nbformat_minor": 0
}
