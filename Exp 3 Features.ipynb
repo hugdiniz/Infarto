{
 "cells": [
  {
   "cell_type": "code",
   "execution_count": 1,
   "metadata": {
    "collapsed": false
   },
   "outputs": [],
   "source": [
    "from Dataset import lerCSV,lerXLSX\n",
    "import warnings\n",
    "import sys \n",
    "import numpy as np\n",
    "import pickle\n",
    "import theanets\n",
    "from sklearn import preprocessing\n",
    "from random import shuffle\n",
    "from sklearn.metrics import precision_score,recall_score,log_loss\n",
    "from mpl_toolkits.mplot3d import Axes3D\n",
    "import matplotlib.pyplot as plt\n",
    "from math import sqrt\n",
    "import math\n",
    "from roc import RocAucScoreOp\n",
    "%matplotlib inline"
   ]
  },
  {
   "cell_type": "code",
   "execution_count": 2,
   "metadata": {
    "collapsed": false
   },
   "outputs": [],
   "source": [
    "warnings.filterwarnings(\"ignore\")   \n",
    "matrix = lerXLSX(\"Banco de Dados - Infarto treinoTeste.xlsx\",training=True,agrupamento=False)\n",
    "def sigmoid(x):\n",
    "  x = (x - 0.5) *  10\n",
    "  return 1 / (1 + math.exp(-x))"
   ]
  },
  {
   "cell_type": "code",
   "execution_count": 3,
   "metadata": {
    "collapsed": false
   },
   "outputs": [],
   "source": [
    "k = 10\n",
    "lista = list(range(0,len(matrix))) \n",
    "shuffle(lista)\n",
    "a = np.asarray(lista) % k"
   ]
  },
  {
   "cell_type": "code",
   "execution_count": 4,
   "metadata": {
    "collapsed": false
   },
   "outputs": [],
   "source": [
    "min_max_scaler = preprocessing.MinMaxScaler()\n",
    "matrixProcessed = min_max_scaler.fit_transform(matrix[:,:3])\n",
    "#matrixProcessed = preprocessing.normalize(matrix[:,:3], norm='l2')\n",
    "#matrixProcessed = np.array([[matrixProcessed[y,0],matrixProcessed[y,1],matrixProcessed[y,2],matrixProcessed[y,3]]  for y in range(0,len(matrix[:,0]))])\n",
    "matrixProcessed = matrixProcessed = np.array([[matrixProcessed[y,0],sigmoid(matrixProcessed[y,1]),matrixProcessed[y,2]]  for y in range(0,len(matrix[:,0]))])\n"
   ]
  },
  {
   "cell_type": "code",
   "execution_count": 11,
   "metadata": {
    "collapsed": true
   },
   "outputs": [],
   "source": [
    "def specificity(outputs,predicts):\n",
    "    neg = np.sum([output == 0 for output in outputs])\n",
    "    tn = np.sum([predicts[x] == outputs[x] and outputs[x] == 0 for x in range(len(predicts))])\n",
    "    return tn / neg\n",
    "\n",
    "def KFold(matrix,metric):\n",
    "    k = 8\n",
    "    \n",
    "    limit = 3\n",
    "    \n",
    "    \n",
    "    lista = list(range(1,len(matrix))) \n",
    "    shuffle(lista)\n",
    "    a = np.asarray(lista) % k   \n",
    "    \n",
    "    scores = np.zeros(k)\n",
    "    scoresT = np.zeros(k)\n",
    "    recall = np.zeros(k)\n",
    "    precision = np.zeros(k)\n",
    "    average_precision = np.zeros(k)\n",
    "    \n",
    "    for fold in range(0,k):\n",
    "        treinoIndex = np.where(a != fold)[0]\n",
    "        testeIndex =  np.where(a == fold)[0]        \n",
    "        \n",
    "        inputs = np.array([[matrix[y,0],matrix[y,1],matrix[y,2]]  for y in treinoIndex])\n",
    "        weights = np.array([int(matrix[y,3] == 1)*0+1 for y in treinoIndex],dtype=\"int32\")        \n",
    "        outputs = np.array([int(matrix[y,3] == 1) for y in treinoIndex],dtype=\"int32\")\n",
    "            \n",
    "        model = theanets.Classifier(metric[1],loss='CrossEntropy',weighted=True)  \n",
    "        saidaT = model.train([inputs, outputs,weights],algo='sgd',learning_rate=0.01,momentum=0.9)       \n",
    "       \n",
    "        scoresT[fold] = saidaT[0][\"err\"]\n",
    "        testOutputs = [matrix[y,3] for y in testeIndex] \n",
    "        testInputs = np.array([matrix[y,:3]  for y in testeIndex])   \n",
    "        predicts = model.predict(testInputs)\n",
    "        predictsProbas = model.predict_proba(testInputs)\n",
    "        scores[fold] = log_loss(testOutputs, predictsProbas)\n",
    "         \n",
    "        recall[fold] = recall_score(testOutputs, predicts)\n",
    "        precision[fold] = specificity(testOutputs, predicts)        \n",
    "    \n",
    "    print(\"Final:\"+ metric[0] + \" = Error Treino:%2.2e[+/- %2.2e]\"%(np.mean(scoresT),np.std(scoresT)))\n",
    "    print(\"Final:\"+ metric[0] + \" = Error Validacao:%2.2e[+/- %2.2e]\"%(np.mean(scores),np.std(scores)))\n",
    "    print(\"Final:\"+ metric[0] + \" = Error:%2.2e[+/- %2.2e]\"%(np.mean(scores),np.std(scores)))\n",
    "    print(\"Final:\"+ metric[0] + \" = Sensitive:%2.2e[+/- %2.2e]\"%(np.mean(recall),np.std(recall)))\n",
    "    print(\"Final:\"+ metric[0] + \" = specificity:%2.2e[+/- %2.2e]\"%(np.mean(precision),np.std(precision)))       \n",
    "    return np.mean(scoresT),np.mean(scores)"
   ]
  },
  {
   "cell_type": "code",
   "execution_count": 12,
   "metadata": {
    "collapsed": false
   },
   "outputs": [],
   "source": [
    "inputOutput = np.array([np.concatenate((matrixProcessed[x,:3],[matrix[x,3] == 1]),axis=0) for x in range(0,len(matrix[:,3]))])"
   ]
  },
  {
   "cell_type": "code",
   "execution_count": 13,
   "metadata": {
    "collapsed": false
   },
   "outputs": [
    {
     "name": "stdout",
     "output_type": "stream",
     "text": [
      "(OrderedDict([('loss', 0.50712110107747566), ('err', 0.50712110107747566), ('acc', 0.75189393939393934)]), OrderedDict([('loss', 0.50611043339095285), ('err', 0.50611043339095285), ('acc', 0.75189393939393945)]))\n",
      "(OrderedDict([('loss', 0.49456081876804253), ('err', 0.49456081876804253), ('acc', 0.76927759740259738)]), OrderedDict([('loss', 0.49433998406899415), ('err', 0.49433998406899415), ('acc', 0.76643668831168832)]))\n",
      "(OrderedDict([('loss', 0.48533297768682426), ('err', 0.48533297768682426), ('acc', 0.77623106060606062)]), OrderedDict([('loss', 0.48443367791933406), ('err', 0.48443367791933406), ('acc', 0.77481060606060614)]))\n",
      "(OrderedDict([('loss', 0.48456971870721743), ('err', 0.48456971870721743), ('acc', 0.77481060606060614)]), OrderedDict([('loss', 0.48381349374973864), ('err', 0.48381349374973864), ('acc', 0.78049242424242427)]))\n",
      "(OrderedDict([('loss', 0.48762277461286452), ('err', 0.48762277461286452), ('acc', 0.76912878787878791)]), OrderedDict([('loss', 0.48735151954666445), ('err', 0.48735151954666445), ('acc', 0.77339015151515156)]))\n",
      "(OrderedDict([('loss', 0.49557099369620039), ('err', 0.49557099369620039), ('acc', 0.76893939393939381)]), OrderedDict([('loss', 0.49501692569415429), ('err', 0.49501692569415429), ('acc', 0.76609848484848475)]))\n",
      "(OrderedDict([('loss', 0.49865776085943064), ('err', 0.49865776085943064), ('acc', 0.76325757575757569)]), OrderedDict([('loss', 0.49829842936270113), ('err', 0.49829842936270113), ('acc', 0.76325757575757569)]))\n",
      "(OrderedDict([('loss', 0.51150463571733196), ('err', 0.51150463571733196), ('acc', 0.7536931818181819)]), OrderedDict([('loss', 0.51151593282886543), ('err', 0.51151593282886543), ('acc', 0.75653409090909096)]))\n",
      "Final:neural network (3,2) = Error Treino:4.96e-01[+/- 9.27e-03]\n",
      "Final:neural network (3,2) = Error Validacao:5.05e-01[+/- 6.82e-02]\n",
      "Final:neural network (3,2) = Error:5.05e-01[+/- 6.82e-02]\n",
      "Final:neural network (3,2) = Sensitive:5.77e-01[+/- 1.20e-01]\n",
      "Final:neural network (3,2) = specificity:8.70e-01[+/- 5.68e-02]\n",
      "(OrderedDict([('loss', 0.49354932943638635), ('err', 0.49354932943638635), ('acc', 0.76486742424242427)]), OrderedDict([('loss', 0.49177733233824394), ('err', 0.49177733233824394), ('acc', 0.76628787878787885)]))\n",
      "(OrderedDict([('loss', 0.49368825527220772), ('err', 0.49368825527220772), ('acc', 0.76927759740259738)]), OrderedDict([('loss', 0.49214515068233228), ('err', 0.49214515068233228), ('acc', 0.76217532467532467)]))\n",
      "(OrderedDict([('loss', 0.48337171412814306), ('err', 0.48337171412814306), ('acc', 0.76060606060606062)]), OrderedDict([('loss', 0.48137682640134116), ('err', 0.48137682640134116), ('acc', 0.76912878787878791)]))\n",
      "(OrderedDict([('loss', 0.49829376519983981), ('err', 0.49829376519983981), ('acc', 0.7620265151515152)]), OrderedDict([('loss', 0.49697201470131841), ('err', 0.49697201470131841), ('acc', 0.76628787878787885)]))\n",
      "(OrderedDict([('loss', 0.49544166639027282), ('err', 0.49544166639027282), ('acc', 0.75776515151515156)]), OrderedDict([('loss', 0.49416904705753917), ('err', 0.49416904705753917), ('acc', 0.76041666666666652)]))\n",
      "(OrderedDict([('loss', 0.48747751017064805), ('err', 0.48747751017064805), ('acc', 0.76912878787878791)]), OrderedDict([('loss', 0.48606681745410912), ('err', 0.48606681745410912), ('acc', 0.76912878787878791)]))\n",
      "(OrderedDict([('loss', 0.48558349690654173), ('err', 0.48558349690654173), ('acc', 0.77196969696969697)]), OrderedDict([('loss', 0.48496636656535586), ('err', 0.48496636656535586), ('acc', 0.77196969696969697)]))\n",
      "(OrderedDict([('loss', 0.4835593713853949), ('err', 0.4835593713853949), ('acc', 0.77035984848484851)]), OrderedDict([('loss', 0.4828525564104732), ('err', 0.4828525564104732), ('acc', 0.77462121212121215)]))\n",
      "Final:neural network (3,1 tanh,2) = Error Treino:4.90e-01[+/- 5.43e-03]\n",
      "Final:neural network (3,1 tanh,2) = Error Validacao:5.01e-01[+/- 3.84e-02]\n",
      "Final:neural network (3,1 tanh,2) = Error:5.01e-01[+/- 3.84e-02]\n",
      "Final:neural network (3,1 tanh,2) = Sensitive:5.84e-01[+/- 9.12e-02]\n",
      "Final:neural network (3,1 tanh,2) = specificity:8.56e-01[+/- 3.95e-02]\n",
      "(OrderedDict([('loss', 0.48799949460212205), ('err', 0.48799949460212205), ('acc', 0.74375000000000002)]), OrderedDict([('loss', 0.4869381582643213), ('err', 0.4869381582643213), ('acc', 0.74801136363636367)]))\n",
      "(OrderedDict([('loss', 0.47935711555627025), ('err', 0.47935711555627025), ('acc', 0.75405844155844159)]), OrderedDict([('loss', 0.47676733097728174), ('err', 0.47676733097728174), ('acc', 0.76400162337662347)]))\n",
      "(OrderedDict([('loss', 0.49086604193647704), ('err', 0.49086604193647704), ('acc', 0.74659090909090908)]), OrderedDict([('loss', 0.48782528192716368), ('err', 0.48782528192716368), ('acc', 0.74659090909090908)]))\n",
      "(OrderedDict([('loss', 0.47316950693852994), ('err', 0.47316950693852994), ('acc', 0.76628787878787885)]), OrderedDict([('loss', 0.4701886326684287), ('err', 0.4701886326684287), ('acc', 0.77357954545454544)]))\n",
      "(OrderedDict([('loss', 0.48300922286406911), ('err', 0.48300922286406911), ('acc', 0.76382575757575755)]), OrderedDict([('loss', 0.4808490550569276), ('err', 0.4808490550569276), ('acc', 0.77092803030303036)]))\n",
      "(OrderedDict([('loss', 0.49570869033978332), ('err', 0.49570869033978332), ('acc', 0.75899621212121204)]), OrderedDict([('loss', 0.49414812310686057), ('err', 0.49414812310686057), ('acc', 0.76344696969696979)]))\n",
      "(OrderedDict([('loss', 0.48361836239767686), ('err', 0.48361836239767686), ('acc', 0.75899621212121204)]), OrderedDict([('loss', 0.48250497748776716), ('err', 0.48250497748776716), ('acc', 0.76041666666666652)]))\n",
      "(OrderedDict([('loss', 0.48964972219630271), ('err', 0.48964972219630271), ('acc', 0.75634469696969697)]), OrderedDict([('loss', 0.48808938636852961), ('err', 0.48808938636852961), ('acc', 0.7549242424242425)]))\n",
      "Final:neural network (3,2 tanh,2) = Error Treino:4.85e-01[+/- 6.67e-03]\n",
      "Final:neural network (3,2 tanh,2) = Error Validacao:5.05e-01[+/- 5.08e-02]\n",
      "Final:neural network (3,2 tanh,2) = Error:5.05e-01[+/- 5.08e-02]\n",
      "Final:neural network (3,2 tanh,2) = Sensitive:5.88e-01[+/- 7.87e-02]\n",
      "Final:neural network (3,2 tanh,2) = specificity:8.45e-01[+/- 4.20e-02]\n",
      "(OrderedDict([('loss', 0.47839337563100554), ('err', 0.47839337563100554), ('acc', 0.75208333333333333)]), OrderedDict([('loss', 0.47713077982658025), ('err', 0.47713077982658025), ('acc', 0.75776515151515156)]))\n",
      "(OrderedDict([('loss', 0.4865943541175875), ('err', 0.4865943541175875), ('acc', 0.74939123376623373)]), OrderedDict([('loss', 0.48513571809235018), ('err', 0.48513571809235018), ('acc', 0.75365259740259738)]))\n",
      "(OrderedDict([('loss', 0.48181713447598506), ('err', 0.48181713447598506), ('acc', 0.75918560606060614)]), OrderedDict([('loss', 0.48125143826292049), ('err', 0.48125143826292049), ('acc', 0.75473484848484851)]))\n",
      "(OrderedDict([('loss', 0.47150504133004589), ('err', 0.47150504133004589), ('acc', 0.77234848484848484)]), OrderedDict([('loss', 0.47146144936637313), ('err', 0.47146144936637313), ('acc', 0.76789772727272732)]))\n",
      "(OrderedDict([('loss', 0.47247590852328059), ('err', 0.47247590852328059), ('acc', 0.77253787878787883)]), OrderedDict([('loss', 0.47129404373729944), ('err', 0.47129404373729944), ('acc', 0.76969696969696966)]))\n",
      "(OrderedDict([('loss', 0.48334139399417997), ('err', 0.48334139399417997), ('acc', 0.75208333333333333)]), OrderedDict([('loss', 0.48172556807246569), ('err', 0.48172556807246569), ('acc', 0.7464015151515152)]))\n",
      "(OrderedDict([('loss', 0.48970240258808173), ('err', 0.48970240258808173), ('acc', 0.7549242424242425)]), OrderedDict([('loss', 0.48734898973848573), ('err', 0.48734898973848573), ('acc', 0.75511363636363638)]))\n",
      "(OrderedDict([('loss', 0.48580802443610194), ('err', 0.48580802443610194), ('acc', 0.74905303030303039)]), OrderedDict([('loss', 0.48317713476078317), ('err', 0.48317713476078317), ('acc', 0.7618371212121211)]))\n",
      "Final:neural network (3,3 tanh,2) = Error Treino:4.81e-01[+/- 6.18e-03]\n",
      "Final:neural network (3,3 tanh,2) = Error Validacao:5.04e-01[+/- 3.00e-02]\n",
      "Final:neural network (3,3 tanh,2) = Error:5.04e-01[+/- 3.00e-02]\n",
      "Final:neural network (3,3 tanh,2) = Sensitive:6.17e-01[+/- 3.88e-02]\n",
      "Final:neural network (3,3 tanh,2) = specificity:8.15e-01[+/- 4.12e-02]\n",
      "(OrderedDict([('loss', 0.49710597413397389), ('err', 0.49710597413397389), ('acc', 0.75511363636363638)]), OrderedDict([('loss', 0.49454152074106045), ('err', 0.49454152074106045), ('acc', 0.74905303030303017)]))\n",
      "(OrderedDict([('loss', 0.48670664553627174), ('err', 0.48670664553627174), ('acc', 0.76400162337662347)]), OrderedDict([('loss', 0.4835383072450648), ('err', 0.4835383072450648), ('acc', 0.76968344155844159)]))\n",
      "(OrderedDict([('loss', 0.4927534991181784), ('err', 0.4927534991181784), ('acc', 0.75473484848484851)]), OrderedDict([('loss', 0.49272372175065898), ('err', 0.49272372175065898), ('acc', 0.77339015151515156)]))\n",
      "(OrderedDict([('loss', 0.49593270352869773), ('err', 0.49593270352869773), ('acc', 0.76628787878787885)]), OrderedDict([('loss', 0.49366861765088738), ('err', 0.49366861765088738), ('acc', 0.76789772727272732)]))\n",
      "(OrderedDict([('loss', 0.46936057854871138), ('err', 0.46936057854871138), ('acc', 0.77178030303030309)]), OrderedDict([('loss', 0.46536954974836336), ('err', 0.46536954974836336), ('acc', 0.77178030303030309)]))\n",
      "(OrderedDict([('loss', 0.48126845833461773), ('err', 0.48126845833461773), ('acc', 0.7536931818181819)]), OrderedDict([('loss', 0.47768434743707594), ('err', 0.47768434743707594), ('acc', 0.76505681818181825)]))\n",
      "(OrderedDict([('loss', 0.48729466922013603), ('err', 0.48729466922013603), ('acc', 0.74782196969696979)]), OrderedDict([('loss', 0.48492182151234869), ('err', 0.48492182151234869), ('acc', 0.75634469696969697)]))\n",
      "(OrderedDict([('loss', 0.46638251877618725), ('err', 0.46638251877618725), ('acc', 0.76893939393939381)]), OrderedDict([('loss', 0.46149499685991729), ('err', 0.46149499685991729), ('acc', 0.76893939393939403)]))\n",
      "Final:neural network (3,5 tanh,2) = Error Treino:4.85e-01[+/- 1.08e-02]\n",
      "Final:neural network (3,5 tanh,2) = Error Validacao:5.00e-01[+/- 4.78e-02]\n",
      "Final:neural network (3,5 tanh,2) = Error:5.00e-01[+/- 4.78e-02]\n",
      "Final:neural network (3,5 tanh,2) = Sensitive:5.99e-01[+/- 7.11e-02]\n",
      "Final:neural network (3,5 tanh,2) = specificity:8.34e-01[+/- 3.84e-02]\n",
      "(OrderedDict([('loss', 0.47964704244814693), ('err', 0.47964704244814693), ('acc', 0.76325757575757569)]), OrderedDict([('loss', 0.47718184674743663), ('err', 0.47718184674743663), ('acc', 0.75634469696969697)]))\n",
      "(OrderedDict([('loss', 0.47622510964041675), ('err', 0.47622510964041675), ('acc', 0.76724837662337653)]), OrderedDict([('loss', 0.47321731129976641), ('err', 0.47321731129976641), ('acc', 0.76582792207792205)]))\n",
      "(OrderedDict([('loss', 0.47739412302303474), ('err', 0.47739412302303474), ('acc', 0.75937500000000002)]), OrderedDict([('loss', 0.4762687047792204), ('err', 0.4762687047792204), ('acc', 0.75795454545454544)]))\n",
      "(OrderedDict([('loss', 0.48157383581555424), ('err', 0.48157383581555424), ('acc', 0.7618371212121211)]), OrderedDict([('loss', 0.48007797617980752), ('err', 0.48007797617980752), ('acc', 0.75066287878787885)]))\n",
      "(OrderedDict([('loss', 0.47655621183642638), ('err', 0.47655621183642638), ('acc', 0.76770833333333333)]), OrderedDict([('loss', 0.47502614143406185), ('err', 0.47502614143406185), ('acc', 0.76628787878787885)]))\n",
      "(OrderedDict([('loss', 0.49471779268724986), ('err', 0.49471779268724986), ('acc', 0.74337121212121204)]), OrderedDict([('loss', 0.4881299872727165), ('err', 0.4881299872727165), ('acc', 0.74214015151515156)]))\n",
      "(OrderedDict([('loss', 0.47582764762485213), ('err', 0.47582764762485213), ('acc', 0.75653409090909096)]), OrderedDict([('loss', 0.47330657248889002), ('err', 0.47330657248889002), ('acc', 0.75085227272727273)]))\n",
      "(OrderedDict([('loss', 0.48214304067198782), ('err', 0.48214304067198782), ('acc', 0.77339015151515156)]), OrderedDict([('loss', 0.48226675020472426), ('err', 0.48226675020472426), ('acc', 0.77178030303030309)]))\n",
      "Final:neural network (3,7 tanh,2) = Error Treino:4.81e-01[+/- 5.83e-03]\n",
      "Final:neural network (3,7 tanh,2) = Error Validacao:5.02e-01[+/- 3.63e-02]\n",
      "Final:neural network (3,7 tanh,2) = Error:5.02e-01[+/- 3.63e-02]\n",
      "Final:neural network (3,7 tanh,2) = Sensitive:6.00e-01[+/- 9.72e-02]\n",
      "Final:neural network (3,7 tanh,2) = specificity:8.23e-01[+/- 5.22e-02]\n",
      "(OrderedDict([('loss', 0.48167405603070163), ('err', 0.48167405603070163), ('acc', 0.75634469696969697)]), OrderedDict([('loss', 0.4778972620373137), ('err', 0.4778972620373137), ('acc', 0.75776515151515156)]))\n",
      "(OrderedDict([('loss', 0.48821118711936723), ('err', 0.48821118711936723), ('acc', 0.73944805194805197)]), OrderedDict([('loss', 0.48369865158277908), ('err', 0.48369865158277908), ('acc', 0.73944805194805197)]))\n",
      "(OrderedDict([('loss', 0.45039445775270665), ('err', 0.45039445775270665), ('acc', 0.78210227272727273)]), OrderedDict([('loss', 0.44790217624268619), ('err', 0.44790217624268619), ('acc', 0.77642045454545461)]))\n",
      "(OrderedDict([('loss', 0.47163165578924304), ('err', 0.47163165578924304), ('acc', 0.75634469696969697)]), OrderedDict([('loss', 0.46784036334659063), ('err', 0.46784036334659063), ('acc', 0.7620265151515152)]))\n",
      "(OrderedDict([('loss', 0.47621571736027302), ('err', 0.47621571736027302), ('acc', 0.76221590909090908)]), OrderedDict([('loss', 0.47418398470468426), ('err', 0.47418398470468426), ('acc', 0.75189393939393945)]))\n",
      "(OrderedDict([('loss', 0.47489872672876782), ('err', 0.47489872672876782), ('acc', 0.76325757575757569)]), OrderedDict([('loss', 0.47328444655168517), ('err', 0.47328444655168517), ('acc', 0.7632575757575758)]))\n",
      "(OrderedDict([('loss', 0.46538558908843136), ('err', 0.46538558908843136), ('acc', 0.7536931818181819)]), OrderedDict([('loss', 0.46264728688644574), ('err', 0.46264728688644574), ('acc', 0.77623106060606062)]))\n",
      "(OrderedDict([('loss', 0.46606190559872029), ('err', 0.46606190559872029), ('acc', 0.7693181818181819)]), OrderedDict([('loss', 0.46497124909641568), ('err', 0.46497124909641568), ('acc', 0.76363636363636367)]))\n",
      "Final:neural network (3,10 tanh,2) = Error Treino:4.72e-01[+/- 1.08e-02]\n",
      "Final:neural network (3,10 tanh,2) = Error Validacao:5.02e-01[+/- 5.97e-02]\n",
      "Final:neural network (3,10 tanh,2) = Error:5.02e-01[+/- 5.97e-02]\n",
      "Final:neural network (3,10 tanh,2) = Sensitive:6.01e-01[+/- 1.04e-01]\n",
      "Final:neural network (3,10 tanh,2) = specificity:8.30e-01[+/- 6.46e-02]\n",
      "(OrderedDict([('loss', 0.49535512401496823), ('err', 0.49535512401496823), ('acc', 0.7618371212121211)]), OrderedDict([('loss', 0.49505256290487815), ('err', 0.49505256290487815), ('acc', 0.75899621212121204)]))\n",
      "(OrderedDict([('loss', 0.46566788267258891), ('err', 0.46566788267258891), ('acc', 0.76014610389610382)]), OrderedDict([('loss', 0.46405577535623271), ('err', 0.46405577535623271), ('acc', 0.76298701298701299)]))\n",
      "(OrderedDict([('loss', 0.49255492646311744), ('err', 0.49255492646311744), ('acc', 0.75757575757575746)]), OrderedDict([('loss', 0.48719558678993524), ('err', 0.48719558678993524), ('acc', 0.76893939393939403)]))\n",
      "(OrderedDict([('loss', 0.47719362744639254), ('err', 0.47719362744639254), ('acc', 0.77073863636363638)]), OrderedDict([('loss', 0.47418821949295148), ('err', 0.47418821949295148), ('acc', 0.76363636363636367)]))\n",
      "(OrderedDict([('loss', 0.48128223895578298), ('err', 0.48128223895578298), ('acc', 0.75757575757575746)]), OrderedDict([('loss', 0.47949678463752859), ('err', 0.47949678463752859), ('acc', 0.77320075757575746)]))\n",
      "(OrderedDict([('loss', 0.48140133761485865), ('err', 0.48140133761485865), ('acc', 0.76325757575757569)]), OrderedDict([('loss', 0.4809954482731309), ('err', 0.4809954482731309), ('acc', 0.7549242424242425)]))\n",
      "(OrderedDict([('loss', 0.46739630780621866), ('err', 0.46739630780621866), ('acc', 0.75350378787878791)]), OrderedDict([('loss', 0.46895949043276192), ('err', 0.46895949043276192), ('acc', 0.7549242424242425)]))\n",
      "(OrderedDict([('loss', 0.4883856543345349), ('err', 0.4883856543345349), ('acc', 0.75331439393939403)]), OrderedDict([('loss', 0.48065659120597976), ('err', 0.48065659120597976), ('acc', 0.7464015151515152)]))\n",
      "Final:neural network (3,15 tanh,2) = Error Treino:4.81e-01[+/- 1.02e-02]\n",
      "Final:neural network (3,15 tanh,2) = Error Validacao:5.13e-01[+/- 5.23e-02]\n",
      "Final:neural network (3,15 tanh,2) = Error:5.13e-01[+/- 5.23e-02]\n",
      "Final:neural network (3,15 tanh,2) = Sensitive:5.78e-01[+/- 1.04e-01]\n",
      "Final:neural network (3,15 tanh,2) = specificity:8.45e-01[+/- 3.69e-02]\n",
      "(OrderedDict([('loss', 0.43413247901569052), ('err', 0.43413247901569052), ('acc', 0.80767045454545461)]), OrderedDict([('loss', 0.43324568936474817), ('err', 0.43324568936474817), ('acc', 0.80625000000000002)]))\n",
      "(OrderedDict([('loss', 0.46969125721533866), ('err', 0.46969125721533866), ('acc', 0.75811688311688319)]), OrderedDict([('loss', 0.46844481456152248), ('err', 0.46844481456152248), ('acc', 0.76948051948051954)]))\n",
      "(OrderedDict([('loss', 0.47888685365155792), ('err', 0.47888685365155792), ('acc', 0.7620265151515152)]), OrderedDict([('loss', 0.4761184131421452), ('err', 0.4761184131421452), ('acc', 0.76770833333333333)]))\n",
      "(OrderedDict([('loss', 0.42532088369184939), ('err', 0.42532088369184939), ('acc', 0.8052083333333333)]), OrderedDict([('loss', 0.42021951871656216), ('err', 0.42021951871656216), ('acc', 0.79952651515151518)]))\n",
      "(OrderedDict([('loss', 0.48224339508814695), ('err', 0.48224339508814695), ('acc', 0.75350378787878791)]), OrderedDict([('loss', 0.47999733488098234), ('err', 0.47999733488098234), ('acc', 0.75653409090909096)]))\n",
      "(OrderedDict([('loss', 0.47732055832962872), ('err', 0.47732055832962872), ('acc', 0.76628787878787885)]), OrderedDict([('loss', 0.48058568429661502), ('err', 0.48058568429661502), ('acc', 0.75918560606060614)]))\n",
      "(OrderedDict([('loss', 0.4440891289502707), ('err', 0.4440891289502707), ('acc', 0.78939393939393943)]), OrderedDict([('loss', 0.44139842875529661), ('err', 0.44139842875529661), ('acc', 0.78513257575757578)]))\n",
      "(OrderedDict([('loss', 0.49239831956748614), ('err', 0.49239831956748614), ('acc', 0.75189393939393934)]), OrderedDict([('loss', 0.49257072510964889), ('err', 0.49257072510964889), ('acc', 0.74214015151515156)]))\n",
      "Final:neural network (3,5 tanh,5 tanh,2) = Error Treino:4.63e-01[+/- 2.33e-02]\n",
      "Final:neural network (3,5 tanh,5 tanh,2) = Error Validacao:5.21e-01[+/- 5.45e-02]\n",
      "Final:neural network (3,5 tanh,5 tanh,2) = Error:5.21e-01[+/- 5.45e-02]\n",
      "Final:neural network (3,5 tanh,5 tanh,2) = Sensitive:5.61e-01[+/- 9.56e-02]\n",
      "Final:neural network (3,5 tanh,5 tanh,2) = specificity:8.28e-01[+/- 4.01e-02]\n",
      "(OrderedDict([('loss', 0.42028896693611534), ('err', 0.42028896693611534), ('acc', 0.78778409090909096)]), OrderedDict([('loss', 0.41565008040899815), ('err', 0.41565008040899815), ('acc', 0.8005681818181819)]))\n",
      "(OrderedDict([('loss', 0.43230018879689242), ('err', 0.43230018879689242), ('acc', 0.77333603896103897)]), OrderedDict([('loss', 0.42963959818285014), ('err', 0.42963959818285014), ('acc', 0.79220779220779214)]))\n",
      "(OrderedDict([('loss', 0.45683145136648412), ('err', 0.45683145136648412), ('acc', 0.76950757575757578)]), OrderedDict([('loss', 0.45641510649444489), ('err', 0.45641510649444489), ('acc', 0.76524621212121213)]))\n",
      "(OrderedDict([('loss', 0.45865334949027226), ('err', 0.45865334949027226), ('acc', 0.76628787878787885)]), OrderedDict([('loss', 0.45363403061273516), ('err', 0.45363403061273516), ('acc', 0.75795454545454544)]))\n",
      "(OrderedDict([('loss', 0.43455152483252935), ('err', 0.43455152483252935), ('acc', 0.77907196969696979)]), OrderedDict([('loss', 0.43248282884337325), ('err', 0.43248282884337325), ('acc', 0.78939393939393943)]))\n",
      "(OrderedDict([('loss', 0.36040295866593514), ('err', 0.36040295866593514), ('acc', 0.8137310606060606)]), OrderedDict([('loss', 0.35286700035661672), ('err', 0.35286700035661672), ('acc', 0.82632575757575755)]))\n",
      "(OrderedDict([('loss', 0.3470427880284021), ('err', 0.3470427880284021), ('acc', 0.85653409090909094)]), OrderedDict([('loss', 0.33743349880513684), ('err', 0.33743349880513684), ('acc', 0.859375)]))\n",
      "(OrderedDict([('loss', 0.43607401665770157), ('err', 0.43607401665770157), ('acc', 0.78532196969696966)]), OrderedDict([('loss', 0.42962149473466393), ('err', 0.42962149473466393), ('acc', 0.77821969696969695)]))\n",
      "Final:neural network (3,10 tanh,5 tanh,2) = Error Treino:4.18e-01[+/- 3.92e-02]\n",
      "Final:neural network (3,10 tanh,5 tanh,2) = Error Validacao:5.46e-01[+/- 7.07e-02]\n",
      "Final:neural network (3,10 tanh,5 tanh,2) = Error:5.46e-01[+/- 7.07e-02]\n",
      "Final:neural network (3,10 tanh,5 tanh,2) = Sensitive:5.70e-01[+/- 8.36e-02]\n",
      "Final:neural network (3,10 tanh,5 tanh,2) = specificity:8.18e-01[+/- 6.96e-02]\n"
     ]
    }
   ],
   "source": [
    "metrics = [   [\"neural network (3,2)\",[3, 2]],[\"neural network (3,1 tanh,2)\",[3, (1,\"tanh\"), 2]],[\"neural network (3,2 tanh,2)\",[3, (2, 'tanh'), 2]],[\"neural network (3,3 tanh,2)\",[3, (3, 'tanh'), 2]],[\"neural network (3,5 tanh,2)\",[3, (5, 'tanh'), 2]], [\"neural network (3,7 tanh,2)\",[3, (7, 'tanh'), 2]], [\"neural network (3,10 tanh,2)\",[3, (10, 'tanh'), 2]], [\"neural network (3,15 tanh,2)\",[3, (15, 'tanh'), 2]], [\"neural network (3,5 tanh,5 tanh,2)\",[3,(5, 'tanh'), (5, 'tanh'), 2]], [\"neural network (3,10 tanh,5 tanh,2)\",[3,(10, 'tanh'), (10, 'tanh'), 2]]]\n",
    "saida = np.array([ KFold(inputOutput, metric=metric) for metric in metrics])\n",
    "np.savetxt('3features.csv', saida, delimiter=',')\n",
    "    \n"
   ]
  },
  {
   "cell_type": "code",
   "execution_count": null,
   "metadata": {
    "collapsed": true
   },
   "outputs": [],
   "source": []
  },
  {
   "cell_type": "code",
   "execution_count": null,
   "metadata": {
    "collapsed": true
   },
   "outputs": [],
   "source": []
  }
 ],
 "metadata": {
  "anaconda-cloud": {},
  "kernelspec": {
   "display_name": "Python [Root]",
   "language": "python",
   "name": "Python [Root]"
  },
  "language_info": {
   "codemirror_mode": {
    "name": "ipython",
    "version": 3
   },
   "file_extension": ".py",
   "mimetype": "text/x-python",
   "name": "python",
   "nbconvert_exporter": "python",
   "pygments_lexer": "ipython3",
   "version": "3.5.2"
  }
 },
 "nbformat": 4,
 "nbformat_minor": 0
}
