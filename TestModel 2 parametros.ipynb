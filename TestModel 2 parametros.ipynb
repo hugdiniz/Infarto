{
 "cells": [
  {
   "cell_type": "code",
   "execution_count": 6,
   "metadata": {
    "collapsed": true
   },
   "outputs": [],
   "source": [
    "from Dataset import lerCSV,lerXLSX\n",
    "import warnings\n",
    "import sys \n",
    "import numpy as np\n",
    "import pickle\n",
    "import theanets\n",
    "from sklearn import preprocessing\n",
    "from random import shuffle\n",
    "from sklearn.metrics import precision_score,recall_score\n",
    "from mpl_toolkits.mplot3d import Axes3D\n",
    "import matplotlib.pyplot as plt\n",
    "from math import sqrt\n",
    "%matplotlib inline"
   ]
  },
  {
   "cell_type": "code",
   "execution_count": 7,
   "metadata": {
    "collapsed": false
   },
   "outputs": [],
   "source": [
    "warnings.filterwarnings(\"ignore\")   \n",
    "matrix = lerXLSX(\"Banco de Dados - Infarto treinoTeste.xlsx\",training=True)"
   ]
  },
  {
   "cell_type": "code",
   "execution_count": 8,
   "metadata": {
    "collapsed": false
   },
   "outputs": [],
   "source": [
    "import math\n",
    "\n",
    "def sigmoid(x):\n",
    "  x = (x - 0.5) *  10\n",
    "  return 1 / (1 + math.exp(-x))\n"
   ]
  },
  {
   "cell_type": "code",
   "execution_count": 9,
   "metadata": {
    "collapsed": false
   },
   "outputs": [],
   "source": [
    "k = 10\n",
    "lista = list(range(0,len(matrix))) \n",
    "shuffle(lista)\n",
    "a = np.asarray(lista) % k"
   ]
  },
  {
   "cell_type": "code",
   "execution_count": 10,
   "metadata": {
    "collapsed": false
   },
   "outputs": [],
   "source": [
    "min_max_scaler = preprocessing.MinMaxScaler()\n",
    "matrixProcessed = min_max_scaler.fit_transform(matrix[:,:4])\n",
    "matrixProcessed = np.array([[sigmoid(matrixProcessed[y,0]),sigmoid(matrixProcessed[y,1]),sigmoid(matrixProcessed[y,2]),sigmoid(matrixProcessed[y,3])]  for y in range(0,len(matrix[:,0]))])\n"
   ]
  },
  {
   "cell_type": "code",
   "execution_count": 11,
   "metadata": {
    "collapsed": true
   },
   "outputs": [],
   "source": [
    "def KFold(matrix,metric = [\"neural network (4,5 tanh,2)\",[3, (7, 'tanh'), 2]]):\n",
    "    k = 8\n",
    "    \n",
    "    limit = 3\n",
    "    \n",
    "    \n",
    "    lista = list(range(1,len(matrix))) \n",
    "    shuffle(lista)\n",
    "    a = np.asarray(lista) % k   \n",
    "    \n",
    "    scores = np.zeros(k)\n",
    "    recall = np.zeros(k)\n",
    "    precision = np.zeros(k)\n",
    "    average_precision = np.zeros(k)\n",
    "    \n",
    "    for fold in range(0,k):\n",
    "        treinoIndex = np.where(a != fold)[0]\n",
    "        testeIndex =  np.where(a == fold)[0]        \n",
    "        \n",
    "        inputs = np.array([[matrix[y,0],matrix[y,1]]  for y in treinoIndex])\n",
    "        weights = np.array([int(matrix[y,2] == 1)*2+1 for y in treinoIndex],dtype=\"int32\")        \n",
    "        outputs = np.array([int(matrix[y,2] == 1) for y in treinoIndex],dtype=\"int32\")\n",
    "            \n",
    "        model = theanets.Classifier(metric[1],loss='CrossEntropy',weighted=True)  \n",
    "        model.train([inputs, outputs,weights],algo='sgd',learning_rate=0.01,momentum=0.9)       \n",
    "        \n",
    "        testOutputs = [matrix[y,2] for y in testeIndex] \n",
    "        testInputs = np.array([matrix[y,:2]  for y in testeIndex])   \n",
    "        predicts = model.predict(testInputs)\n",
    "        scores[fold] = sum([int(predicts[x] == testOutputs[x]) for x in range(len(predicts))]) / len(predicts) \n",
    "        recall[fold] = recall_score(testOutputs, predicts)\n",
    "        precision[fold] = precision_score(testOutputs, predicts)        \n",
    "        \n",
    "    \n",
    "    print(\"Final:\"+ metric[0] + \" = Score:%2.2e[+/- %2.2e]\"%(np.mean(scores),np.std(scores)))\n",
    "    print(\"Final:\"+ metric[0] + \" = recall:%2.2e[+/- %2.2e]\"%(np.mean(recall),np.std(recall)))\n",
    "    print(\"Final:\"+ metric[0] + \" = precision:%2.2e[+/- %2.2e]\"%(np.mean(precision),np.std(precision)))       \n",
    "    return np.mean(scores), np.std(scores)"
   ]
  },
  {
   "cell_type": "markdown",
   "metadata": {
    "collapsed": false
   },
   "source": [
    "## Colesterol e Idade"
   ]
  },
  {
   "cell_type": "code",
   "execution_count": 15,
   "metadata": {
    "collapsed": false
   },
   "outputs": [
    {
     "name": "stdout",
     "output_type": "stream",
     "text": [
      "Final:neural network (2,5 tanh,2) = Score:6.69e-01[+/- 5.04e-02]\n",
      "Final:neural network (2,5 tanh,2) = recall:8.31e-01[+/- 5.98e-02]\n",
      "Final:neural network (2,5 tanh,2) = precision:5.12e-01[+/- 7.16e-02]\n",
      "Final:neural network (2,7 tanh,2) = Score:6.55e-01[+/- 3.51e-02]\n",
      "Final:neural network (2,7 tanh,2) = recall:8.29e-01[+/- 6.75e-02]\n",
      "Final:neural network (2,7 tanh,2) = precision:4.98e-01[+/- 5.06e-02]\n",
      "Final:neural network (2,10 tanh,2) = Score:6.66e-01[+/- 3.81e-02]\n",
      "Final:neural network (2,10 tanh,2) = recall:8.43e-01[+/- 6.24e-02]\n",
      "Final:neural network (2,10 tanh,2) = precision:5.10e-01[+/- 5.08e-02]\n",
      "Final:neural network (2,15 tanh,2) = Score:6.71e-01[+/- 3.89e-02]\n",
      "Final:neural network (2,15 tanh,2) = recall:8.28e-01[+/- 6.00e-02]\n",
      "Final:neural network (2,15 tanh,2) = precision:5.15e-01[+/- 4.66e-02]\n",
      "Final:neural network (2,5 tanh,5 tanh,2) = Score:6.74e-01[+/- 4.61e-02]\n",
      "Final:neural network (2,5 tanh,5 tanh,2) = recall:8.42e-01[+/- 6.23e-02]\n",
      "Final:neural network (2,5 tanh,5 tanh,2) = precision:5.17e-01[+/- 6.02e-02]\n"
     ]
    }
   ],
   "source": [
    "inputOutput = np.array([np.concatenate((matrixProcessed[x,:2],[matrix[x,4] == 1]),axis=0) for x in range(0,len(matrix[:,4]))])\n",
    "metrics = [ [\"neural network (2,5 tanh,2)\",[2, (5, 'tanh'), 2]], [\"neural network (2,7 tanh,2)\",[2, (7, 'tanh'), 2]], [\"neural network (2,10 tanh,2)\",[2, (10, 'tanh'), 2]], [\"neural network (2,15 tanh,2)\",[2, (15, 'tanh'), 2]], [\"neural network (2,5 tanh,5 tanh,2)\",[2,(5, 'tanh'), (5, 'tanh'), 2]]]\n",
    "for metric in metrics:\n",
    "    KFold(inputOutput, metric=metric)\n"
   ]
  },
  {
   "cell_type": "markdown",
   "metadata": {
    "collapsed": true
   },
   "source": [
    "## Colesterol e Glicemia"
   ]
  },
  {
   "cell_type": "code",
   "execution_count": 31,
   "metadata": {
    "collapsed": false
   },
   "outputs": [
    {
     "name": "stdout",
     "output_type": "stream",
     "text": [
      "Final:neural network (2,5 tanh,2) = Score:5.44e-01[+/- 4.14e-02]\n",
      "Final:neural network (2,5 tanh,2) = recall:8.81e-01[+/- 7.53e-02]\n",
      "Final:neural network (2,5 tanh,2) = precision:4.21e-01[+/- 4.81e-02]\n",
      "Final:neural network (2,7 tanh,2) = Score:5.55e-01[+/- 5.50e-02]\n",
      "Final:neural network (2,7 tanh,2) = recall:8.52e-01[+/- 6.97e-02]\n",
      "Final:neural network (2,7 tanh,2) = precision:4.29e-01[+/- 6.78e-02]\n",
      "Final:neural network (2,10 tanh,2) = Score:5.57e-01[+/- 4.96e-02]\n",
      "Final:neural network (2,10 tanh,2) = recall:8.80e-01[+/- 4.70e-02]\n",
      "Final:neural network (2,10 tanh,2) = precision:4.29e-01[+/- 5.15e-02]\n",
      "Final:neural network (2,15 tanh,2) = Score:5.72e-01[+/- 7.92e-02]\n",
      "Final:neural network (2,15 tanh,2) = recall:8.82e-01[+/- 5.12e-02]\n",
      "Final:neural network (2,15 tanh,2) = precision:4.42e-01[+/- 9.65e-02]\n",
      "Final:neural network (2,5 tanh,5 tanh,2) = Score:5.48e-01[+/- 4.50e-02]\n",
      "Final:neural network (2,5 tanh,5 tanh,2) = recall:8.72e-01[+/- 6.24e-02]\n",
      "Final:neural network (2,5 tanh,5 tanh,2) = precision:4.25e-01[+/- 4.38e-02]\n"
     ]
    }
   ],
   "source": [
    "inputOutput = np.array([[matrixProcessed[x,0],matrixProcessed[x,2],matrix[x,4] == 1] for x in range(0,len(matrix[:,4]))])\n",
    "metrics = [ [\"neural network (2,5 tanh,2)\",[2, (5, 'tanh'), 2]], [\"neural network (2,7 tanh,2)\",[2, (7, 'tanh'), 2]], [\"neural network (2,10 tanh,2)\",[2, (10, 'tanh'), 2]], [\"neural network (2,15 tanh,2)\",[2, (15, 'tanh'), 2]], [\"neural network (2,5 tanh,5 tanh,2)\",[2,(5, 'tanh'), (5, 'tanh'), 2]]]\n",
    "for metric in metrics:\n",
    "    KFold(inputOutput, metric=metric)\n"
   ]
  },
  {
   "cell_type": "markdown",
   "metadata": {},
   "source": [
    "## Idade e Glicemia"
   ]
  },
  {
   "cell_type": "code",
   "execution_count": 32,
   "metadata": {
    "collapsed": false
   },
   "outputs": [
    {
     "name": "stdout",
     "output_type": "stream",
     "text": [
      "Final:neural network (2,5 tanh,2) = Score:5.95e-01[+/- 3.41e-02]\n",
      "Final:neural network (2,5 tanh,2) = recall:8.05e-01[+/- 7.12e-02]\n",
      "Final:neural network (2,5 tanh,2) = precision:4.49e-01[+/- 4.25e-02]\n",
      "Final:neural network (2,7 tanh,2) = Score:6.10e-01[+/- 2.55e-02]\n",
      "Final:neural network (2,7 tanh,2) = recall:8.09e-01[+/- 5.20e-02]\n",
      "Final:neural network (2,7 tanh,2) = precision:4.59e-01[+/- 5.22e-02]\n",
      "Final:neural network (2,10 tanh,2) = Score:5.90e-01[+/- 3.92e-02]\n",
      "Final:neural network (2,10 tanh,2) = recall:8.01e-01[+/- 6.00e-02]\n",
      "Final:neural network (2,10 tanh,2) = precision:4.45e-01[+/- 6.33e-02]\n",
      "Final:neural network (2,15 tanh,2) = Score:6.05e-01[+/- 4.96e-02]\n",
      "Final:neural network (2,15 tanh,2) = recall:8.02e-01[+/- 9.88e-02]\n",
      "Final:neural network (2,15 tanh,2) = precision:4.56e-01[+/- 4.62e-02]\n",
      "Final:neural network (2,5 tanh,5 tanh,2) = Score:5.91e-01[+/- 4.36e-02]\n",
      "Final:neural network (2,5 tanh,5 tanh,2) = recall:7.96e-01[+/- 6.87e-02]\n",
      "Final:neural network (2,5 tanh,5 tanh,2) = precision:4.46e-01[+/- 5.38e-02]\n"
     ]
    }
   ],
   "source": [
    "inputOutput = np.array([[matrixProcessed[x,1],matrixProcessed[x,2],matrix[x,4] == 1] for x in range(0,len(matrix[:,4]))])\n",
    "metrics = [ [\"neural network (2,5 tanh,2)\",[2, (5, 'tanh'), 2]], [\"neural network (2,7 tanh,2)\",[2, (7, 'tanh'), 2]], [\"neural network (2,10 tanh,2)\",[2, (10, 'tanh'), 2]], [\"neural network (2,15 tanh,2)\",[2, (15, 'tanh'), 2]], [\"neural network (2,5 tanh,5 tanh,2)\",[2,(5, 'tanh'), (5, 'tanh'), 2]]]\n",
    "for metric in metrics:\n",
    "    KFold(inputOutput, metric=metric)"
   ]
  },
  {
   "cell_type": "code",
   "execution_count": null,
   "metadata": {
    "collapsed": true
   },
   "outputs": [],
   "source": []
  }
 ],
 "metadata": {
  "anaconda-cloud": {},
  "kernelspec": {
   "display_name": "Python [Root]",
   "language": "python",
   "name": "Python [Root]"
  },
  "language_info": {
   "codemirror_mode": {
    "name": "ipython",
    "version": 3
   },
   "file_extension": ".py",
   "mimetype": "text/x-python",
   "name": "python",
   "nbconvert_exporter": "python",
   "pygments_lexer": "ipython3",
   "version": "3.5.2"
  }
 },
 "nbformat": 4,
 "nbformat_minor": 0
}
