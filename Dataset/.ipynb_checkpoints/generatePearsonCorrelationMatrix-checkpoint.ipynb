{
 "cells": [
  {
   "cell_type": "code",
   "execution_count": 1,
   "metadata": {
    "collapsed": false
   },
   "outputs": [
    {
     "name": "stderr",
     "output_type": "stream",
     "text": [
      "INFO: Recompiling stale cache file /home/hugdiniz/.julia/lib/v0.5/PyCall.ji for module PyCall.\n"
     ]
    }
   ],
   "source": [
    "using PyCall\n",
    "@pyimport sklearn.preprocessing as preprocessing"
   ]
  },
  {
   "cell_type": "markdown",
   "metadata": {},
   "source": [
    "# Reading Voted Matrix and scaling"
   ]
  },
  {
   "cell_type": "code",
   "execution_count": 2,
   "metadata": {
    "collapsed": false,
    "scrolled": true
   },
   "outputs": [
    {
     "data": {
      "text/plain": [
       "807×671 Array{Float64,2}:\n",
       "  1.11778    1.11778    1.11778   …  -0.410505  -0.209377  -0.163976\n",
       " -0.193337  -0.193337  -0.193337     -0.410505  -0.209377  -0.163976\n",
       " -0.193337  -0.193337  -0.193337     -0.410505  -0.209377  -0.163976\n",
       " -0.193337  -0.193337  -0.193337     -0.410505  -0.209377  -0.163976\n",
       " -0.193337  -0.193337  -0.193337     -0.410505  -0.209377  -0.163976\n",
       "  1.11778    1.11778    1.11778   …  -0.410505  -0.209377  -0.163976\n",
       " -0.193337  -0.193337  -0.193337     -0.410505  -0.209377  -0.163976\n",
       "  1.11778    1.11778    1.11778      -0.410505  -0.209377  -0.163976\n",
       " -0.193337  -0.193337  -0.193337     -1.88285    1.10045   -1.38924 \n",
       "  1.11778    1.11778    1.11778      -0.410505  -0.209377  -0.163976\n",
       " -0.193337  -0.193337  -0.193337  …  -0.410505  -0.209377  -0.163976\n",
       "  1.11778    1.11778    1.11778       1.06184    1.10045    1.06129 \n",
       " -1.50445   -1.50445   -1.50445      -0.410505  -0.209377  -0.163976\n",
       "  ⋮                               ⋱                         ⋮       \n",
       "  1.11778    1.11778    1.11778   …   1.06184   -0.209377  -0.163976\n",
       "  1.11778    1.11778    1.11778      -1.88285   -0.209377  -0.163976\n",
       "  1.11778    1.11778    1.11778       1.06184   -0.209377   1.06129 \n",
       " -1.50445   -1.50445   -1.50445       1.06184    1.10045    1.06129 \n",
       "  1.11778    1.11778    1.11778       1.06184   -0.209377   1.06129 \n",
       "  1.11778    1.11778    1.11778   …   1.06184    1.10045   -1.38924 \n",
       " -0.193337  -0.193337  -0.193337     -0.410505  -0.209377   1.06129 \n",
       " -0.193337  -0.193337  -0.193337      1.06184   -0.209377   1.06129 \n",
       "  1.11778    1.11778    1.11778       1.06184    1.10045    1.06129 \n",
       "  1.11778    1.11778    1.11778      -0.410505   1.10045    1.06129 \n",
       "  1.11778    1.11778    1.11778   …  -0.410505  -0.209377  -0.163976\n",
       " -0.193337  -0.193337  -0.193337     -0.410505  -0.209377  -0.163976"
      ]
     },
     "execution_count": 2,
     "metadata": {},
     "output_type": "execute_result"
    }
   ],
   "source": [
    "votedMatrix = readcsv(\"Banco de Dados - Infarto treinoTeste.csv\")\n",
    "votedMatrixScaled = preprocessing.scale(votedMatrix[2:end,:])"
   ]
  },
  {
   "cell_type": "markdown",
   "metadata": {},
   "source": [
    "Creating Correlation Matrix."
   ]
  },
  {
   "cell_type": "code",
   "execution_count": 3,
   "metadata": {
    "collapsed": false
   },
   "outputs": [],
   "source": [
    "sizeCorrelationMatrix = size(votedMatrixScaled)[2]\n",
    "correlationMatrix = zeros(sizeCorrelationMatrix,sizeCorrelationMatrix)\n",
    "for x in 1:sizeCorrelationMatrix\n",
    "    for y in x:sizeCorrelationMatrix\n",
    "        correlationMatrix[x,y] = cor(votedMatrixScaled[:,x],votedMatrixScaled[:,y])\n",
    "    end\n",
    "end\n",
    "\n",
    "writecsv(\"dataset/correlationMatrix.csv\",correlationMatrix)"
   ]
  },
  {
   "cell_type": "code",
   "execution_count": 4,
   "metadata": {
    "collapsed": false
   },
   "outputs": [
    {
     "data": {
      "text/plain": [
       "671×671 Array{Float64,2}:\n",
       " 1.0  1.0  1.0  1.0  1.0  1.0  1.0  …   0.544969    0.448969    0.475915 \n",
       " 0.0  1.0  1.0  1.0  1.0  1.0  1.0      0.544969    0.448969    0.475915 \n",
       " 0.0  0.0  1.0  1.0  1.0  1.0  1.0      0.544969    0.448969    0.475915 \n",
       " 0.0  0.0  0.0  1.0  1.0  1.0  1.0      0.544969    0.448969    0.475915 \n",
       " 0.0  0.0  0.0  0.0  1.0  1.0  1.0      0.544969    0.448969    0.475915 \n",
       " 0.0  0.0  0.0  0.0  0.0  1.0  1.0  …   0.544969    0.448969    0.475915 \n",
       " 0.0  0.0  0.0  0.0  0.0  0.0  1.0      0.544969    0.448969    0.475915 \n",
       " 0.0  0.0  0.0  0.0  0.0  0.0  0.0      0.271568    0.268222    0.284258 \n",
       " 0.0  0.0  0.0  0.0  0.0  0.0  0.0      0.341539    0.316574    0.298157 \n",
       " 0.0  0.0  0.0  0.0  0.0  0.0  0.0      0.237409    0.108741    0.103252 \n",
       " 0.0  0.0  0.0  0.0  0.0  0.0  0.0  …   0.237409    0.108741    0.103252 \n",
       " 0.0  0.0  0.0  0.0  0.0  0.0  0.0     -0.32437    -0.31338    -0.265023 \n",
       " 0.0  0.0  0.0  0.0  0.0  0.0  0.0     -0.32437    -0.31338    -0.265023 \n",
       " ⋮                        ⋮         ⋱                           ⋮        \n",
       " 0.0  0.0  0.0  0.0  0.0  0.0  0.0      0.0261991   0.125049    0.10834  \n",
       " 0.0  0.0  0.0  0.0  0.0  0.0  0.0  …  -0.0157634   0.0437987   0.0616925\n",
       " 0.0  0.0  0.0  0.0  0.0  0.0  0.0     -0.0157634   0.0437987   0.0616925\n",
       " 0.0  0.0  0.0  0.0  0.0  0.0  0.0     -0.0157634   0.0437987   0.0616925\n",
       " 0.0  0.0  0.0  0.0  0.0  0.0  0.0      0.699176    0.659715    0.619965 \n",
       " 0.0  0.0  0.0  0.0  0.0  0.0  0.0      0.670172    0.546122    0.537699 \n",
       " 0.0  0.0  0.0  0.0  0.0  0.0  0.0  …   0.624813    0.492642    0.506274 \n",
       " 0.0  0.0  0.0  0.0  0.0  0.0  0.0      0.362519    0.328704    0.269417 \n",
       " 0.0  0.0  0.0  0.0  0.0  0.0  0.0      0.771435    0.569703    0.525215 \n",
       " 0.0  0.0  0.0  0.0  0.0  0.0  0.0      1.0         0.635747    0.616734 \n",
       " 0.0  0.0  0.0  0.0  0.0  0.0  0.0      0.0         1.0         0.552332 \n",
       " 0.0  0.0  0.0  0.0  0.0  0.0  0.0  …   0.0         0.0         1.0      "
      ]
     },
     "execution_count": 4,
     "metadata": {},
     "output_type": "execute_result"
    }
   ],
   "source": [
    "correlationMatrix"
   ]
  },
  {
   "cell_type": "code",
   "execution_count": null,
   "metadata": {
    "collapsed": true
   },
   "outputs": [],
   "source": []
  }
 ],
 "metadata": {
  "anaconda-cloud": {},
  "kernelspec": {
   "display_name": "Julia 0.5.0",
   "language": "julia",
   "name": "julia-0.5"
  },
  "language_info": {
   "file_extension": ".jl",
   "mimetype": "application/julia",
   "name": "julia",
   "version": "0.5.0"
  }
 },
 "nbformat": 4,
 "nbformat_minor": 0
}
