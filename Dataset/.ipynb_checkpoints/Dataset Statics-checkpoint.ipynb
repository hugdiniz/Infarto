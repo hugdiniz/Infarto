{
 "cells": [
  {
   "cell_type": "code",
   "execution_count": 17,
   "metadata": {
    "collapsed": false,
    "nbpresent": {
     "id": "3fc1e7d8-4d5b-4293-983d-b97655d63bd9"
    },
    "scrolled": true
   },
   "outputs": [
    {
     "name": "stderr",
     "output_type": "stream",
     "text": [
      "INFO: Precompiling module PyPlot.\n"
     ]
    }
   ],
   "source": [
    "using PyCall\n",
    "using PyPlot"
   ]
  },
  {
   "cell_type": "markdown",
   "metadata": {
    "nbpresent": {
     "id": "b23db2ec-3328-4145-b9fd-06626f4b765f"
    }
   },
   "source": [
    "# Lendo o Dataset."
   ]
  },
  {
   "cell_type": "code",
   "execution_count": 18,
   "metadata": {
    "collapsed": false,
    "nbpresent": {
     "id": "f0020e91-47f0-4ebe-b02f-e6dced1d809d"
    },
    "scrolled": false
   },
   "outputs": [
    {
     "data": {
      "text/plain": [
       "787×4 Array{Any,2}:\n",
       "    \"Colesterol Total\"    \"Idade\"     \"Glicemia\"    \"Desfecho\"\n",
       " 254                    38          93             1          \n",
       " 222                    79          89            -1          \n",
       " 236                    64         102            -1          \n",
       " 241                    50         123            -1          \n",
       " 167                    34          82            -1          \n",
       " 233                    35         129             1          \n",
       " 189                    20         133            -1          \n",
       " 168                    34          88            -1          \n",
       " 184                    59         133            -1          \n",
       " 169                    68         116            -1          \n",
       " 172                    79          94            -1          \n",
       " 230                    63          93            -1          \n",
       "   ⋮                                                          \n",
       " 262                    54         127             1          \n",
       " 234                    25         154             1          \n",
       " 233                    22         137            -1          \n",
       " 216                    66          90             1          \n",
       " 229                    16          72            -1          \n",
       " 189                    70         100             1          \n",
       " 250                    19         136             1          \n",
       " 185                    49          90            -1          \n",
       " 189                    26         149            -1          \n",
       " 191                    58         138             1          \n",
       " 172                    25          88            -1          \n",
       " 186                    56         136            -1          "
      ]
     },
     "execution_count": 18,
     "metadata": {},
     "output_type": "execute_result"
    }
   ],
   "source": [
    "matrix = readcsv(\"Banco de Dados - Infarto treinoTeste.csv\")\n",
    "indexInfarto = find(x->x==1,matrix[:,4])\n",
    "matrix"
   ]
  },
  {
   "cell_type": "markdown",
   "metadata": {
    "nbpresent": {
     "id": "45c0f0f7-fd39-46e5-891f-88ba624f214c"
    }
   },
   "source": [
    "# Quantidade de Valores de Cada Entrada"
   ]
  },
  {
   "cell_type": "markdown",
   "metadata": {
    "nbpresent": {
     "id": "32fdb6b8-cd87-4d3c-af98-52edd8be1b41"
    }
   },
   "source": [
    "## Entrada \"Colesterol\""
   ]
  },
  {
   "cell_type": "code",
   "execution_count": 19,
   "metadata": {
    "collapsed": false,
    "nbpresent": {
     "id": "6d479eff-e4e0-476c-90d4-2ecde032d5e5"
    }
   },
   "outputs": [
    {
     "data": {
      "text/plain": [
       "12×2 Array{Any,2}:\n",
       " \"150 ate 160\"   11\n",
       " \"161 ate 171\"   91\n",
       " \"172 ate 182\"  152\n",
       " \"183 ate 193\"  132\n",
       " \"194 ate 204\"   29\n",
       " \"205 ate 215\"    4\n",
       " \"216 ate 226\"   39\n",
       " \"227 ate 237\"  144\n",
       " \"238 ate 248\"  175\n",
       " \"249 ate 259\"   68\n",
       " \"260 ate 270\"    9\n",
       " \"271 ate 281\"    1"
      ]
     },
     "execution_count": 19,
     "metadata": {},
     "output_type": "execute_result"
    }
   ],
   "source": [
    "values = sort(unique(matrix[2:end,1]))\n",
    "sizeRange = 12\n",
    "valueRange = values[1]:round(Int,abs(values[1] - values[end])/sizeRange):values[end]\n",
    "nameRange = [string(x,\" ate \",x+round(Int,abs(values[1] - values[end])/sizeRange)-1) for x in valueRange]\n",
    "colesterol = hcat(nameRange,[count(i->x<=i<x+sizeRange,matrix[2:end,1]) for x in valueRange])\n",
    "\n"
   ]
  },
  {
   "cell_type": "markdown",
   "metadata": {
    "nbpresent": {
     "id": "dfe11e0d-05bf-4ac9-b20f-371513b1ee7a"
    }
   },
   "source": [
    "## Entrada \"Idade\""
   ]
  },
  {
   "cell_type": "code",
   "execution_count": 20,
   "metadata": {
    "collapsed": false,
    "nbpresent": {
     "id": "0c9d2e66-1aef-44ed-a622-71f9a06703e6"
    }
   },
   "outputs": [
    {
     "data": {
      "text/plain": [
       "13×2 Array{Any,2}:\n",
       " \"10 ate 15\"   86\n",
       " \"16 ate 21\"  129\n",
       " \"22 ate 27\"  173\n",
       " \"28 ate 33\"  156\n",
       " \"34 ate 39\"  136\n",
       " \"40 ate 45\"  135\n",
       " \"46 ate 51\"  148\n",
       " \"52 ate 57\"  183\n",
       " \"58 ate 63\"  165\n",
       " \"64 ate 69\"  110\n",
       " \"70 ate 75\"   68\n",
       " \"76 ate 81\"   35\n",
       " \"82 ate 87\"   10"
      ]
     },
     "execution_count": 20,
     "metadata": {},
     "output_type": "execute_result"
    }
   ],
   "source": [
    "values = sort(unique(matrix[2:end,2]))\n",
    "sizeRange = 12\n",
    "valueRange = values[1]:round(Int,abs(values[1] - values[end])/sizeRange):values[end]\n",
    "nameRange = [string(x,\" ate \",x+round(Int,abs(values[1] - values[end])/sizeRange)-1) for x in valueRange]\n",
    "idade = hcat(nameRange,[count(i->x<=i<x+sizeRange,matrix[2:end,2]) for x in valueRange])\n"
   ]
  },
  {
   "cell_type": "code",
   "execution_count": 21,
   "metadata": {
    "collapsed": false
   },
   "outputs": [
    {
     "data": {
      "image/png": "[encoded data removed]",
      "text/plain": [
       "PyPlot.Figure(PyObject <matplotlib.figure.Figure object at 0x7f5bf11aca20>)"
      ]
     },
     "metadata": {},
     "output_type": "display_data"
    },
    {
     "data": {
      "text/plain": [
       "1-element Array{Any,1}:\n",
       " PyObject <matplotlib.lines.Line2D object at 0x7f5bddbb33c8>"
      ]
     },
     "execution_count": 21,
     "metadata": {},
     "output_type": "execute_result"
    }
   ],
   "source": [
    "plot(valueRange,idade[:,2])"
   ]
  },
  {
   "cell_type": "markdown",
   "metadata": {
    "nbpresent": {
     "id": "b863e230-2c91-4b85-af74-6668aaceb15a"
    }
   },
   "source": [
    "## Entrada \"Glicemia\""
   ]
  },
  {
   "cell_type": "code",
   "execution_count": 22,
   "metadata": {
    "collapsed": false,
    "nbpresent": {
     "id": "1f0cc5d7-cadd-412f-b5d7-d7d583d995d6"
    }
   },
   "outputs": [
    {
     "ename": "LoadError",
     "evalue": "LoadError: ArgumentError: number of rows of each array must match (got (13,12))\nwhile loading In[22], in expression starting on line 6",
     "output_type": "error",
     "traceback": [
      "LoadError: ArgumentError: number of rows of each array must match (got (13,12))\nwhile loading In[22], in expression starting on line 6",
      "",
      " in typed_hcat(::Type{Any}, ::Array{String,1}, ::Array{Int64,1}) at ./abstractarray.jl:1004",
      " in hcat(::Array{String,1}, ::Array{Int64,1}) at ./array.jl:728"
     ]
    }
   ],
   "source": [
    "values = sort(unique(matrix[2:end,3]))\n",
    "sizeRange = 12\n",
    "nameRange = [string(x,\" ate \",x+round(Int,abs(values[1] - values[end])/sizeRange)-1) for x in valueRange]\n",
    "valueRange = values[1]:round(Int,abs(values[1] - values[end])/sizeRange):values[end]\n",
    "\n",
    "glicemia = hcat(nameRange,[count(i->x<=i<x+sizeRange,matrix[2:end,3]) for x in valueRange])\n"
   ]
  },
  {
   "cell_type": "markdown",
   "metadata": {
    "nbpresent": {
     "id": "720a3ac2-5c58-4797-9f7f-768264785aeb"
    }
   },
   "source": [
    "# Saida\n",
    "## 1 = Infartou e -1 = Não Infartou"
   ]
  },
  {
   "cell_type": "code",
   "execution_count": 23,
   "metadata": {
    "collapsed": false,
    "nbpresent": {
     "id": "05938c11-4510-4c69-b995-f30edeed32cf"
    }
   },
   "outputs": [
    {
     "data": {
      "text/plain": [
       "2×2 Array{Int64,2}:\n",
       " -1  517\n",
       "  1  269"
      ]
     },
     "execution_count": 23,
     "metadata": {},
     "output_type": "execute_result"
    }
   ],
   "source": [
    "values = sort(unique(matrix[2:end,4]))\n",
    "sizeRange = 1\n",
    "valueRange = values[1]:round(Int,abs(values[1] - values[end])/sizeRange):values[end]\n",
    "\n",
    "desfecho = hcat(valueRange,[count(i->x<=i<x+sizeRange,matrix[2:end,4]) for x in valueRange])"
   ]
  },
  {
   "cell_type": "markdown",
   "metadata": {
    "collapsed": true,
    "nbpresent": {
     "id": "1a77d3f9-79a9-44c6-a646-a493b72bc83e"
    }
   },
   "source": [
    "# As Entradas somente de pessoas que sofreram um Infarto.\n",
    "## Entrada Colesterol"
   ]
  },
  {
   "cell_type": "code",
   "execution_count": 24,
   "metadata": {
    "collapsed": false,
    "nbpresent": {
     "id": "505c8b7b-43ea-4985-943f-a27e442508fd"
    }
   },
   "outputs": [
    {
     "data": {
      "text/plain": [
       "12×2 Array{Int64,2}:\n",
       " 150   3\n",
       " 160  12\n",
       " 170  23\n",
       " 180  40\n",
       " 190  13\n",
       " 200   2\n",
       " 210   7\n",
       " 220  21\n",
       " 230  75\n",
       " 240  86\n",
       " 250  36\n",
       " 260   8"
      ]
     },
     "execution_count": 24,
     "metadata": {},
     "output_type": "execute_result"
    }
   ],
   "source": [
    "values = sort(unique(matrix[indexInfarto,1]))\n",
    "sizeRange = 12\n",
    "valueRange = values[1]:round(Int,abs(values[1] - values[end])/sizeRange):values[end]\n",
    "\n",
    "colesterol = hcat(valueRange,[count(i->x<=i<x+sizeRange,matrix[indexInfarto,1]) for x in valueRange])"
   ]
  },
  {
   "cell_type": "markdown",
   "metadata": {
    "nbpresent": {
     "id": "5f0c3900-d032-465a-b75d-7f8215fe597c"
    }
   },
   "source": [
    "## Entrada Idade"
   ]
  },
  {
   "cell_type": "code",
   "execution_count": 25,
   "metadata": {
    "collapsed": false,
    "nbpresent": {
     "id": "70f7cc85-111b-4fd8-aa2b-72f09109d3c0"
    }
   },
   "outputs": [
    {
     "data": {
      "text/plain": [
       "13×2 Array{Int64,2}:\n",
       " 10  14\n",
       " 16  15\n",
       " 22  23\n",
       " 28  27\n",
       " 34  41\n",
       " 40  51\n",
       " 46  71\n",
       " 52  87\n",
       " 58  73\n",
       " 64  61\n",
       " 70  45\n",
       " 76  19\n",
       " 82   2"
      ]
     },
     "execution_count": 25,
     "metadata": {},
     "output_type": "execute_result"
    }
   ],
   "source": [
    "values = sort(unique(matrix[indexInfarto,2]))\n",
    "sizeRange = 12\n",
    "valueRange = values[1]:round(Int,abs(values[1] - values[end])/sizeRange):values[end]\n",
    "\n",
    "idade = hcat(valueRange,[count(i->x<=i<x+sizeRange,matrix[indexInfarto,2]) for x in valueRange])"
   ]
  },
  {
   "cell_type": "markdown",
   "metadata": {
    "nbpresent": {
     "id": "e7637baf-2d9b-4603-b132-7177fcee86c4"
    }
   },
   "source": [
    "## Entrada Glicemia"
   ]
  },
  {
   "cell_type": "code",
   "execution_count": 26,
   "metadata": {
    "collapsed": false,
    "nbpresent": {
     "id": "61519d5d-b8f3-42a7-85c9-ff4bd8d033cc"
    }
   },
   "outputs": [
    {
     "data": {
      "text/plain": [
       "13×2 Array{Int64,2}:\n",
       "  66   6\n",
       "  74  19\n",
       "  82  38\n",
       "  90  52\n",
       "  98  26\n",
       " 106   7\n",
       " 114  12\n",
       " 122  38\n",
       " 130  66\n",
       " 138  60\n",
       " 146  51\n",
       " 154  28\n",
       " 162   2"
      ]
     },
     "execution_count": 26,
     "metadata": {},
     "output_type": "execute_result"
    }
   ],
   "source": [
    "values = sort(unique(matrix[indexInfarto,3]))\n",
    "sizeRange = 12\n",
    "valueRange = values[1]:round(Int,abs(values[1] - values[end])/sizeRange):values[end]\n",
    "\n",
    "glicemia = hcat(valueRange,[count(i->x<=i<x+sizeRange,matrix[indexInfarto,3]) for x in valueRange])"
   ]
  },
  {
   "cell_type": "markdown",
   "metadata": {
    "collapsed": true
   },
   "source": [
    "# A proporcao da entrada de pessoa que sofreu um infarto.\n",
    "## Entrada Colesterol"
   ]
  },
  {
   "cell_type": "code",
   "execution_count": 27,
   "metadata": {
    "collapsed": false
   },
   "outputs": [
    {
     "data": {
      "text/plain": [
       "12×4 Array{Any,2}:\n",
       " \"150 ate 159\"   3   11  0.272727\n",
       " \"160 ate 169\"  12   82  0.146341\n",
       " \"170 ate 179\"  23  139  0.165468\n",
       " \"180 ate 189\"  40  170  0.235294\n",
       " \"190 ate 199\"  13   62  0.209677\n",
       " \"200 ate 209\"   2    6  0.333333\n",
       " \"210 ate 219\"   7   13  0.538462\n",
       " \"220 ate 229\"  21   70  0.3     \n",
       " \"230 ate 239\"  75  180  0.416667\n",
       " \"240 ate 249\"  86  150  0.573333\n",
       " \"250 ate 259\"  36   57  0.631579\n",
       " \"260 ate 269\"   8    9  0.888889"
      ]
     },
     "execution_count": 27,
     "metadata": {},
     "output_type": "execute_result"
    }
   ],
   "source": [
    "values = sort(unique(matrix[indexInfarto,1]))\n",
    "sizeRange = 12\n",
    "valueRange = values[1]:round(Int,abs(values[1] - values[end])/sizeRange):values[end]\n",
    "\n",
    "colesterolInfartou = [count(i->x<=i<x+sizeRange,matrix[indexInfarto,1]) for x in valueRange]\n",
    "colesterolTotal = [count(i->x<=i<x+sizeRange,matrix[2:end,1]) for x in valueRange]\n",
    "nameRange = [string(x,\" ate \",x+round(Int,abs(values[1] - values[end])/sizeRange)-1) for x in valueRange]\n",
    "porcentagem = colesterolInfartou ./ colesterolTotal\n",
    "colesterolResultado =  hcat(nameRange,colesterolInfartou,colesterolTotal,porcentagem)"
   ]
  },
  {
   "cell_type": "markdown",
   "metadata": {},
   "source": [
    "## Entrada \"Idade\""
   ]
  },
  {
   "cell_type": "code",
   "execution_count": 29,
   "metadata": {
    "collapsed": false
   },
   "outputs": [
    {
     "data": {
      "text/plain": [
       "13×4 Array{Any,2}:\n",
       " \"10 ate 15\"  14   86  0.162791\n",
       " \"16 ate 21\"  15  129  0.116279\n",
       " \"22 ate 27\"  23  173  0.132948\n",
       " \"28 ate 33\"  27  156  0.173077\n",
       " \"34 ate 39\"  41  136  0.301471\n",
       " \"40 ate 45\"  51  135  0.377778\n",
       " \"46 ate 51\"  71  148  0.47973 \n",
       " \"52 ate 57\"  87  183  0.47541 \n",
       " \"58 ate 63\"  73  165  0.442424\n",
       " \"64 ate 69\"  61  110  0.554545\n",
       " \"70 ate 75\"  45   68  0.661765\n",
       " \"76 ate 81\"  19   35  0.542857\n",
       " \"82 ate 87\"   2   10  0.2     "
      ]
     },
     "execution_count": 29,
     "metadata": {},
     "output_type": "execute_result"
    }
   ],
   "source": [
    "values = sort(unique(matrix[indexInfarto,2]))\n",
    "valueRange = values[1]:round(Int,abs(values[1] - values[end])/sizeRange):values[end]\n",
    "nameRange = [string(x,\" ate \",x+round(Int,abs(values[1] - values[end])/sizeRange)-1) for x in valueRange]\n",
    "idadeInfartou = [count(i->x<=i<x+sizeRange,matrix[indexInfarto,2]) for x in valueRange]\n",
    "idadeTotal = [count(i->x<=i<x+sizeRange,matrix[2:end,2]) for x in valueRange]\n",
    "nameRange = [string(x,\" ate \",x+round(Int,abs(values[1] - values[end])/sizeRange)-1) for x in valueRange]\n",
    "idadePorcentagem = idadeInfartou ./ idadeTotal\n",
    "hcat(nameRange,idadeInfartou,idadeTotal,idadePorcentagem)"
   ]
  },
  {
   "cell_type": "markdown",
   "metadata": {},
   "source": [
    "## Entrada \"Glicemia\""
   ]
  },
  {
   "cell_type": "code",
   "execution_count": 30,
   "metadata": {
    "collapsed": false
   },
   "outputs": [
    {
     "data": {
      "text/plain": [
       "13×4 Array{Any,2}:\n",
       " \"66 ate 73\"     6   43  0.139535\n",
       " \"74 ate 81\"    19  106  0.179245\n",
       " \"82 ate 89\"    38  177  0.214689\n",
       " \"90 ate 97\"    52  160  0.325   \n",
       " \"98 ate 105\"   26   82  0.317073\n",
       " \"106 ate 113\"   7   20  0.35    \n",
       " \"114 ate 121\"  12   26  0.461538\n",
       " \"122 ate 129\"  38   91  0.417582\n",
       " \"130 ate 137\"  66  158  0.417722\n",
       " \"138 ate 145\"  60  149  0.402685\n",
       " \"146 ate 153\"  51  100  0.51    \n",
       " \"154 ate 161\"  28   45  0.622222\n",
       " \"162 ate 169\"   2    8  0.25    "
      ]
     },
     "execution_count": 30,
     "metadata": {},
     "output_type": "execute_result"
    }
   ],
   "source": [
    "\n",
    "values = sort(unique(matrix[indexInfarto,3]))\n",
    "valueRange = values[1]:round(Int,abs(values[1] - values[end])/sizeRange):values[end]\n",
    "nameRange = [string(x,\" ate \",x+round(Int,abs(values[1] - values[end])/sizeRange)-1) for x in valueRange]\n",
    "glicemiaInfartou = [count(i->x<=i<x+sizeRange,matrix[indexInfarto,3]) for x in valueRange]\n",
    "glicemiaTotal = [count(i->x<=i<x+sizeRange,matrix[2:end,3]) for x in valueRange]\n",
    "nameRange = [string(x,\" ate \",x+round(Int,abs(values[1] - values[end])/sizeRange)-1) for x in valueRange]\n",
    "glicemiaPorcentagem = glicemiaInfartou ./ glicemiaTotal\n",
    "hcat(nameRange,glicemiaInfartou,glicemiaTotal,glicemiaPorcentagem)"
   ]
  },
  {
   "cell_type": "code",
   "execution_count": null,
   "metadata": {
    "collapsed": true
   },
   "outputs": [],
   "source": []
  }
 ],
 "metadata": {
  "anaconda-cloud": {},
  "kernelspec": {
   "display_name": "Julia 0.5.0",
   "language": "julia",
   "name": "julia-0.5"
  },
  "language_info": {
   "file_extension": ".jl",
   "mimetype": "application/julia",
   "name": "julia",
   "version": "0.5.0"
  },
  "nbpresent": {
   "slides": {},
   "themes": {
    "default": "bde2726f-74ba-4f05-827f-df77d20ea874",
    "theme": {
     "bde2726f-74ba-4f05-827f-df77d20ea874": {
      "backgrounds": {
       "dc7afa04-bf90-40b1-82a5-726e3cff5267": {
        "background-color": "31af15d2-7e15-44c5-ab5e-e04b16a89eff",
        "id": "dc7afa04-bf90-40b1-82a5-726e3cff5267"
       }
      },
      "id": "bde2726f-74ba-4f05-827f-df77d20ea874",
      "palette": {
       "19cc588f-0593-49c9-9f4b-e4d7cc113b1c": {
        "id": "19cc588f-0593-49c9-9f4b-e4d7cc113b1c",
        "rgb": [
         252,
         252,
         252
        ]
       },
       "31af15d2-7e15-44c5-ab5e-e04b16a89eff": {
        "id": "31af15d2-7e15-44c5-ab5e-e04b16a89eff",
        "rgb": [
         68,
         68,
         68
        ]
       },
       "50f92c45-a630-455b-aec3-788680ec7410": {
        "id": "50f92c45-a630-455b-aec3-788680ec7410",
        "rgb": [
         197,
         226,
         245
        ]
       },
       "c5cc3653-2ee1-402a-aba2-7caae1da4f6c": {
        "id": "c5cc3653-2ee1-402a-aba2-7caae1da4f6c",
        "rgb": [
         43,
         126,
         184
        ]
       },
       "efa7f048-9acb-414c-8b04-a26811511a21": {
        "id": "efa7f048-9acb-414c-8b04-a26811511a21",
        "rgb": [
         25.118061674008803,
         73.60176211453744,
         107.4819383259912
        ]
       }
      },
      "rules": {
       "a": {
        "color": "19cc588f-0593-49c9-9f4b-e4d7cc113b1c"
       },
       "blockquote": {
        "color": "50f92c45-a630-455b-aec3-788680ec7410",
        "font-size": 3
       },
       "code": {
        "font-family": "Anonymous Pro"
       },
       "h1": {
        "color": "19cc588f-0593-49c9-9f4b-e4d7cc113b1c",
        "font-family": "Merriweather",
        "font-size": 8
       },
       "h2": {
        "color": "19cc588f-0593-49c9-9f4b-e4d7cc113b1c",
        "font-family": "Merriweather",
        "font-size": 6
       },
       "h3": {
        "color": "50f92c45-a630-455b-aec3-788680ec7410",
        "font-family": "Lato",
        "font-size": 5.5
       },
       "h4": {
        "color": "c5cc3653-2ee1-402a-aba2-7caae1da4f6c",
        "font-family": "Lato",
        "font-size": 5
       },
       "h5": {
        "font-family": "Lato"
       },
       "h6": {
        "font-family": "Lato"
       },
       "h7": {
        "font-family": "Lato"
       },
       "li": {
        "color": "50f92c45-a630-455b-aec3-788680ec7410",
        "font-size": 3.25
       },
       "pre": {
        "font-family": "Anonymous Pro",
        "font-size": 4
       }
      },
      "text-base": {
       "color": "19cc588f-0593-49c9-9f4b-e4d7cc113b1c",
       "font-family": "Lato",
       "font-size": 4
      }
     }
    }
   }
  }
 },
 "nbformat": 4,
 "nbformat_minor": 0
}
