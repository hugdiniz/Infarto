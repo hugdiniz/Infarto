{
 "cells": [
  {
   "cell_type": "code",
   "execution_count": 7,
   "metadata": {
    "collapsed": false,
    "scrolled": true
   },
   "outputs": [],
   "source": [
    "using PyCall"
   ]
  },
  {
   "cell_type": "code",
   "execution_count": 2,
   "metadata": {
    "collapsed": false
   },
   "outputs": [
    {
     "data": {
      "text/plain": [
       "787x4 Array{Any,2}:\n",
       "    \"Colesterol Total\"    \"Idade\"     \"Glicemia\"    \"Desfecho\"\n",
       " 254                    38          93             1          \n",
       " 222                    79          89            -1          \n",
       " 236                    64         102            -1          \n",
       " 241                    50         123            -1          \n",
       " 167                    34          82            -1          \n",
       " 233                    35         129             1          \n",
       " 189                    20         133            -1          \n",
       " 168                    34          88            -1          \n",
       " 184                    59         133            -1          \n",
       " 169                    68         116            -1          \n",
       " 172                    79          94            -1          \n",
       " 230                    63          93            -1          \n",
       "   ⋮                                                          \n",
       " 262                    54         127             1          \n",
       " 234                    25         154             1          \n",
       " 233                    22         137            -1          \n",
       " 216                    66          90             1          \n",
       " 229                    16          72            -1          \n",
       " 189                    70         100             1          \n",
       " 250                    19         136             1          \n",
       " 185                    49          90            -1          \n",
       " 189                    26         149            -1          \n",
       " 191                    58         138             1          \n",
       " 172                    25          88            -1          \n",
       " 186                    56         136            -1          "
      ]
     },
     "execution_count": 2,
     "metadata": {},
     "output_type": "execute_result"
    }
   ],
   "source": [
    "matrix = readcsv(\"Banco de Dados - Infarto treinoTeste.csv\")"
   ]
  },
  {
   "cell_type": "code",
   "execution_count": 3,
   "metadata": {
    "collapsed": false
   },
   "outputs": [
    {
     "data": {
      "text/plain": [
       "12x2 Array{Int64,2}:\n",
       " 150   11\n",
       " 161   91\n",
       " 172  152\n",
       " 183  132\n",
       " 194   29\n",
       " 205    4\n",
       " 216   39\n",
       " 227  144\n",
       " 238  175\n",
       " 249   68\n",
       " 260    9\n",
       " 271    1"
      ]
     },
     "execution_count": 3,
     "metadata": {},
     "output_type": "execute_result"
    }
   ],
   "source": [
    "values = sort(unique(matrix[2:end,1]))\n",
    "sizeRange = 12\n",
    "valueRange = values[1]:round(Int,abs(values[1] - values[end])/sizeRange):values[end]\n",
    "\n",
    "colesterol = hcat(valueRange,[count(i->x<=i<x+sizeRange,matrix[2:end,1]) for x in valueRange])\n",
    "\n"
   ]
  },
  {
   "cell_type": "code",
   "execution_count": 4,
   "metadata": {
    "collapsed": false
   },
   "outputs": [
    {
     "data": {
      "text/plain": [
       "13x2 Array{Any,2}:\n",
       " \"10 ate 15\"   86\n",
       " \"16 ate 21\"  129\n",
       " \"22 ate 27\"  173\n",
       " \"28 ate 33\"  156\n",
       " \"34 ate 39\"  136\n",
       " \"40 ate 45\"  135\n",
       " \"46 ate 51\"  148\n",
       " \"52 ate 57\"  183\n",
       " \"58 ate 63\"  165\n",
       " \"64 ate 69\"  110\n",
       " \"70 ate 75\"   68\n",
       " \"76 ate 81\"   35\n",
       " \"82 ate 87\"   10"
      ]
     },
     "execution_count": 4,
     "metadata": {},
     "output_type": "execute_result"
    }
   ],
   "source": [
    "values = sort(unique(matrix[2:end,2]))\n",
    "sizeRange = 12\n",
    "valueRange = values[1]:round(Int,abs(values[1] - values[end])/sizeRange):values[end]\n",
    "nameRange = [string(x,\" ate \",x+round(Int,abs(values[1] - values[end])/sizeRange)-1) for x in valueRange]\n",
    "idade = hcat(nameRange,[count(i->x<=i<x+sizeRange,matrix[2:end,2]) for x in valueRange])\n"
   ]
  },
  {
   "cell_type": "code",
   "execution_count": 5,
   "metadata": {
    "collapsed": false
   },
   "outputs": [
    {
     "ename": "LoadError",
     "evalue": "LoadError: ArgumentError: number of rows of each array must match (got (13,12))\nwhile loading In[5], in expression starting on line 6",
     "output_type": "error",
     "traceback": [
      "LoadError: ArgumentError: number of rows of each array must match (got (13,12))\nwhile loading In[5], in expression starting on line 6",
      "",
      " in typed_hcat at ./abstractarray.jl:772"
     ]
    }
   ],
   "source": [
    "values = sort(unique(matrix[2:end,3]))\n",
    "sizeRange = 12\n",
    "nameRange = [string(x,\" ate \",x+round(Int,abs(values[1] - values[end])/sizeRange)-1) for x in valueRange]\n",
    "valueRange = values[1]:round(Int,abs(values[1] - values[end])/sizeRange):values[end]\n",
    "\n",
    "glicemia = hcat(nameRange,[count(i->x<=i<x+sizeRange,matrix[2:end,3]) for x in valueRange])"
   ]
  },
  {
   "cell_type": "code",
   "execution_count": 6,
   "metadata": {
    "collapsed": false
   },
   "outputs": [
    {
     "data": {
      "text/plain": [
       "2x2 Array{Int64,2}:\n",
       " -1  517\n",
       "  1  269"
      ]
     },
     "execution_count": 6,
     "metadata": {},
     "output_type": "execute_result"
    }
   ],
   "source": [
    "values = sort(unique(matrix[2:end,4]))\n",
    "sizeRange = 1\n",
    "valueRange = values[1]:round(Int,abs(values[1] - values[end])/sizeRange):values[end]\n",
    "\n",
    "desfecho = hcat(valueRange,[count(i->x<=i<x+sizeRange,matrix[2:end,4]) for x in valueRange])"
   ]
  },
  {
   "cell_type": "code",
   "execution_count": 11,
   "metadata": {
    "collapsed": false
   },
   "outputs": [
    {
     "data": {
      "text/plain": [
       "269-element Array{Int64,1}:\n",
       "   2\n",
       "   7\n",
       "  17\n",
       "  19\n",
       "  24\n",
       "  29\n",
       "  38\n",
       "  48\n",
       "  53\n",
       "  55\n",
       "  56\n",
       "  57\n",
       "  61\n",
       "   ⋮\n",
       " 756\n",
       " 758\n",
       " 759\n",
       " 763\n",
       " 765\n",
       " 771\n",
       " 776\n",
       " 777\n",
       " 779\n",
       " 781\n",
       " 782\n",
       " 785"
      ]
     },
     "execution_count": 11,
     "metadata": {},
     "output_type": "execute_result"
    }
   ],
   "source": [
    "indexInfarto = find(x->x==1,matrix[:,4])"
   ]
  },
  {
   "cell_type": "code",
   "execution_count": 17,
   "metadata": {
    "collapsed": false
   },
   "outputs": [
    {
     "data": {
      "text/plain": [
       "12x2 Array{Int64,2}:\n",
       " 150   3\n",
       " 160  12\n",
       " 170  23\n",
       " 180  40\n",
       " 190  13\n",
       " 200   2\n",
       " 210   7\n",
       " 220  21\n",
       " 230  75\n",
       " 240  86\n",
       " 250  36\n",
       " 260   8"
      ]
     },
     "execution_count": 17,
     "metadata": {},
     "output_type": "execute_result"
    }
   ],
   "source": [
    "values = sort(unique(matrix[indexInfarto,1]))\n",
    "sizeRange = 12\n",
    "valueRange = values[1]:round(Int,abs(values[1] - values[end])/sizeRange):values[end]\n",
    "\n",
    "colesterol = hcat(valueRange,[count(i->x<=i<x+sizeRange,matrix[indexInfarto,1]) for x in valueRange])"
   ]
  },
  {
   "cell_type": "code",
   "execution_count": 18,
   "metadata": {
    "collapsed": false
   },
   "outputs": [
    {
     "data": {
      "text/plain": [
       "13x2 Array{Int64,2}:\n",
       " 10  14\n",
       " 16  15\n",
       " 22  23\n",
       " 28  27\n",
       " 34  41\n",
       " 40  51\n",
       " 46  71\n",
       " 52  87\n",
       " 58  73\n",
       " 64  61\n",
       " 70  45\n",
       " 76  19\n",
       " 82   2"
      ]
     },
     "execution_count": 18,
     "metadata": {},
     "output_type": "execute_result"
    }
   ],
   "source": [
    "values = sort(unique(matrix[indexInfarto,2]))\n",
    "sizeRange = 12\n",
    "valueRange = values[1]:round(Int,abs(values[1] - values[end])/sizeRange):values[end]\n",
    "\n",
    "idade = hcat(valueRange,[count(i->x<=i<x+sizeRange,matrix[indexInfarto,2]) for x in valueRange])"
   ]
  },
  {
   "cell_type": "code",
   "execution_count": 20,
   "metadata": {
    "collapsed": false
   },
   "outputs": [
    {
     "data": {
      "text/plain": [
       "13x2 Array{Int64,2}:\n",
       "  66   6\n",
       "  74  19\n",
       "  82  38\n",
       "  90  52\n",
       "  98  26\n",
       " 106   7\n",
       " 114  12\n",
       " 122  38\n",
       " 130  66\n",
       " 138  60\n",
       " 146  51\n",
       " 154  28\n",
       " 162   2"
      ]
     },
     "execution_count": 20,
     "metadata": {},
     "output_type": "execute_result"
    }
   ],
   "source": [
    "values = sort(unique(matrix[indexInfarto,3]))\n",
    "sizeRange = 12\n",
    "valueRange = values[1]:round(Int,abs(values[1] - values[end])/sizeRange):values[end]\n",
    "\n",
    "glicemia = hcat(valueRange,[count(i->x<=i<x+sizeRange,matrix[indexInfarto,3]) for x in valueRange])"
   ]
  },
  {
   "cell_type": "code",
   "execution_count": null,
   "metadata": {
    "collapsed": true
   },
   "outputs": [],
   "source": []
  }
 ],
 "metadata": {
  "anaconda-cloud": {},
  "kernelspec": {
   "display_name": "Julia 0.4.5",
   "language": "julia",
   "name": "julia-0.4"
  },
  "language_info": {
   "file_extension": ".jl",
   "mimetype": "application/julia",
   "name": "julia",
   "version": "0.4.5"
  }
 },
 "nbformat": 4,
 "nbformat_minor": 0
}
