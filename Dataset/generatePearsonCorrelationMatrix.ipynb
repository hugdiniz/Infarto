{
 "cells": [
  {
   "cell_type": "code",
   "execution_count": 1,
   "metadata": {
    "collapsed": false
   },
   "outputs": [
    {
     "name": "stderr",
     "output_type": "stream",
     "text": [
      "INFO: Recompiling stale cache file /home/hugdiniz/.julia/lib/v0.5/PyCall.ji for module PyCall.\n"
     ]
    }
   ],
   "source": [
    "using PyCall\n",
    "@pyimport sklearn.preprocessing as preprocessing"
   ]
  },
  {
   "cell_type": "markdown",
   "metadata": {},
   "source": [
    "### Reading Voted Matrix and scaling"
   ]
  },
  {
   "cell_type": "code",
   "execution_count": 2,
   "metadata": {
    "collapsed": false,
    "scrolled": true
   },
   "outputs": [
    {
     "data": {
      "text/plain": [
       "786×4 Array{Float64,2}:\n",
       "  1.37135   -0.386894  -0.783122   1.38634 \n",
       "  0.356664   1.8265    -0.930019  -0.721325\n",
       "  0.800588   1.01672   -0.452605  -0.721325\n",
       "  0.959132   0.260928   0.318603  -0.721325\n",
       " -1.38732   -0.602835  -1.18709   -0.721325\n",
       "  0.705461  -0.54885    0.538948   1.38634 \n",
       " -0.689728  -1.35863    0.685845  -0.721325\n",
       " -1.35561   -0.602835  -0.966743  -0.721325\n",
       " -0.848272   0.746795   0.685845  -0.721325\n",
       " -1.3239     1.23266    0.061534  -0.721325\n",
       " -1.22878    1.8265    -0.746398  -0.721325\n",
       "  0.610335   0.962736  -0.783122  -0.721325\n",
       " -0.594601  -1.19667    1.34688   -0.721325\n",
       "  ⋮                                        \n",
       "  1.62502    0.476869   0.4655     1.38634 \n",
       "  0.73717   -1.0887     1.45705    1.38634 \n",
       "  0.705461  -1.25066    0.832742  -0.721325\n",
       "  0.166411   1.12469   -0.893295   1.38634 \n",
       "  0.578626  -1.57457   -1.55433   -0.721325\n",
       " -0.689728   1.34063   -0.526053   1.38634 \n",
       "  1.24451   -1.41261    0.796018   1.38634 \n",
       " -0.816563   0.206943  -0.893295  -0.721325\n",
       " -0.689728  -1.03472    1.27343   -0.721325\n",
       " -0.62631    0.69281    0.869466   1.38634 \n",
       " -1.22878   -1.0887    -0.966743  -0.721325\n",
       " -0.784855   0.58484    0.796018  -0.721325"
      ]
     },
     "execution_count": 2,
     "metadata": {},
     "output_type": "execute_result"
    }
   ],
   "source": [
    "votedMatrix = readcsv(\"Banco de Dados - Infarto treinoTeste.csv\")\n",
    "votedMatrixScaled = preprocessing.scale(votedMatrix[2:end,:])"
   ]
  },
  {
   "cell_type": "markdown",
   "metadata": {},
   "source": [
    "## Creating Correlation Matrix."
   ]
  },
  {
   "cell_type": "code",
   "execution_count": 4,
   "metadata": {
    "collapsed": false
   },
   "outputs": [],
   "source": [
    "sizeCorrelationMatrix = size(votedMatrixScaled)[2]\n",
    "correlationMatrix = zeros(sizeCorrelationMatrix,sizeCorrelationMatrix)\n",
    "for x in 1:sizeCorrelationMatrix\n",
    "    for y in x:sizeCorrelationMatrix\n",
    "        correlationMatrix[x,y] = cor(votedMatrixScaled[:,x],votedMatrixScaled[:,y])\n",
    "    end\n",
    "end\n",
    "\n",
    "writecsv(\"correlationMatrix.csv\",correlationMatrix)"
   ]
  },
  {
   "cell_type": "code",
   "execution_count": 5,
   "metadata": {
    "collapsed": false
   },
   "outputs": [
    {
     "data": {
      "text/plain": [
       "4×4 Array{Float64,2}:\n",
       " 1.0  0.0315585  0.00837547  0.327078\n",
       " 0.0  1.0        0.0699509   0.319802\n",
       " 0.0  0.0        1.0         0.233657\n",
       " 0.0  0.0        0.0         1.0     "
      ]
     },
     "execution_count": 5,
     "metadata": {},
     "output_type": "execute_result"
    }
   ],
   "source": [
    "correlationMatrix"
   ]
  },
  {
   "cell_type": "code",
   "execution_count": null,
   "metadata": {
    "collapsed": true
   },
   "outputs": [],
   "source": []
  }
 ],
 "metadata": {
  "anaconda-cloud": {},
  "kernelspec": {
   "display_name": "Julia 0.5.0",
   "language": "julia",
   "name": "julia-0.5"
  },
  "language_info": {
   "file_extension": ".jl",
   "mimetype": "application/julia",
   "name": "julia",
   "version": "0.5.0"
  }
 },
 "nbformat": 4,
 "nbformat_minor": 0
}
